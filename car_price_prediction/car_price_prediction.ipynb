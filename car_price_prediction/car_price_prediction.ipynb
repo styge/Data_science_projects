{
 "cells": [
  {
   "cell_type": "markdown",
   "metadata": {},
   "source": [
    "## Подготовка данных"
   ]
  },
  {
   "cell_type": "markdown",
   "metadata": {},
   "source": [
    "---"
   ]
  },
  {
   "cell_type": "markdown",
   "metadata": {},
   "source": [
    "---"
   ]
  },
  {
   "cell_type": "markdown",
   "metadata": {},
   "source": [
    "### Загрузим датасет, познакомимся с данными"
   ]
  },
  {
   "cell_type": "code",
   "execution_count": 1,
   "metadata": {
    "scrolled": true
   },
   "outputs": [
    {
     "name": "stdout",
     "output_type": "stream",
     "text": [
      "Requirement already satisfied: lightgbm in /Users/admin_mbp_15_2012/opt/anaconda3/envs/ds_practicum_env/lib/python3.9/site-packages (3.3.5)\n",
      "Requirement already satisfied: scikit-learn!=0.22.0 in /Users/admin_mbp_15_2012/opt/anaconda3/envs/ds_practicum_env/lib/python3.9/site-packages (from lightgbm) (0.24.1)\n",
      "Requirement already satisfied: numpy in /Users/admin_mbp_15_2012/opt/anaconda3/envs/ds_practicum_env/lib/python3.9/site-packages (from lightgbm) (1.20.1)\n",
      "Requirement already satisfied: scipy in /Users/admin_mbp_15_2012/opt/anaconda3/envs/ds_practicum_env/lib/python3.9/site-packages (from lightgbm) (1.8.0)\n",
      "Requirement already satisfied: wheel in /Users/admin_mbp_15_2012/opt/anaconda3/envs/ds_practicum_env/lib/python3.9/site-packages (from lightgbm) (0.38.4)\n",
      "Requirement already satisfied: threadpoolctl>=2.0.0 in /Users/admin_mbp_15_2012/opt/anaconda3/envs/ds_practicum_env/lib/python3.9/site-packages (from scikit-learn!=0.22.0->lightgbm) (3.1.0)\n",
      "Requirement already satisfied: joblib>=0.11 in /Users/admin_mbp_15_2012/opt/anaconda3/envs/ds_practicum_env/lib/python3.9/site-packages (from scikit-learn!=0.22.0->lightgbm) (1.2.0)\n"
     ]
    }
   ],
   "source": [
    "import warnings\n",
    "warnings.filterwarnings('ignore')\n",
    "\n",
    "import pandas as pd\n",
    "import numpy as np\n",
    "import matplotlib.pyplot as plt\n",
    "\n",
    "from sklearn.model_selection import train_test_split\n",
    "from sklearn.preprocessing import LabelEncoder\n",
    "from sklearn.preprocessing import OrdinalEncoder\n",
    "from sklearn.preprocessing import StandardScaler\n",
    "\n",
    "from sklearn.model_selection import cross_val_score\n",
    "from sklearn.metrics import mean_squared_error\n",
    "from sklearn.model_selection import RepeatedKFold\n",
    "from sklearn.model_selection import GridSearchCV\n",
    "from sklearn.ensemble import RandomForestRegressor\n",
    "from catboost import CatBoostRegressor\n",
    "import lightgbm as lgb"
   ]
  },
  {
   "cell_type": "markdown",
   "metadata": {},
   "source": [
    "**Загрузим датасет:**"
   ]
  },
  {
   "cell_type": "code",
   "execution_count": 2,
   "metadata": {
    "scrolled": true
   },
   "outputs": [],
   "source": [
    "try:\n",
    "    df = pd.read_csv('/content/autos.csv')\n",
    "except:\n",
    "    df = pd.read_csv('/ds/content/autos.csv')"
   ]
  },
  {
   "cell_type": "markdown",
   "metadata": {},
   "source": [
    "**Объявим константы:**"
   ]
  },
  {
   "cell_type": "code",
   "execution_count": 3,
   "metadata": {},
   "outputs": [],
   "source": [
    "RS = 1234"
   ]
  },
  {
   "cell_type": "markdown",
   "metadata": {},
   "source": [
    "---"
   ]
  },
  {
   "cell_type": "markdown",
   "metadata": {},
   "source": [
    "**Посмотрим на данные:**"
   ]
  },
  {
   "cell_type": "code",
   "execution_count": 4,
   "metadata": {},
   "outputs": [
    {
     "data": {
      "text/html": [
       "<div>\n",
       "<style scoped>\n",
       "    .dataframe tbody tr th:only-of-type {\n",
       "        vertical-align: middle;\n",
       "    }\n",
       "\n",
       "    .dataframe tbody tr th {\n",
       "        vertical-align: top;\n",
       "    }\n",
       "\n",
       "    .dataframe thead th {\n",
       "        text-align: right;\n",
       "    }\n",
       "</style>\n",
       "<table border=\"1\" class=\"dataframe\">\n",
       "  <thead>\n",
       "    <tr style=\"text-align: right;\">\n",
       "      <th></th>\n",
       "      <th>DateCrawled</th>\n",
       "      <th>Price</th>\n",
       "      <th>VehicleType</th>\n",
       "      <th>RegistrationYear</th>\n",
       "      <th>Gearbox</th>\n",
       "      <th>Power</th>\n",
       "      <th>Model</th>\n",
       "      <th>Kilometer</th>\n",
       "      <th>RegistrationMonth</th>\n",
       "      <th>FuelType</th>\n",
       "      <th>Brand</th>\n",
       "      <th>Repaired</th>\n",
       "      <th>DateCreated</th>\n",
       "      <th>NumberOfPictures</th>\n",
       "      <th>PostalCode</th>\n",
       "      <th>LastSeen</th>\n",
       "    </tr>\n",
       "  </thead>\n",
       "  <tbody>\n",
       "    <tr>\n",
       "      <th>0</th>\n",
       "      <td>2016-03-24 11:52:17</td>\n",
       "      <td>480</td>\n",
       "      <td>NaN</td>\n",
       "      <td>1993</td>\n",
       "      <td>manual</td>\n",
       "      <td>0</td>\n",
       "      <td>golf</td>\n",
       "      <td>150000</td>\n",
       "      <td>0</td>\n",
       "      <td>petrol</td>\n",
       "      <td>volkswagen</td>\n",
       "      <td>NaN</td>\n",
       "      <td>2016-03-24 00:00:00</td>\n",
       "      <td>0</td>\n",
       "      <td>70435</td>\n",
       "      <td>2016-04-07 03:16:57</td>\n",
       "    </tr>\n",
       "    <tr>\n",
       "      <th>1</th>\n",
       "      <td>2016-03-24 10:58:45</td>\n",
       "      <td>18300</td>\n",
       "      <td>coupe</td>\n",
       "      <td>2011</td>\n",
       "      <td>manual</td>\n",
       "      <td>190</td>\n",
       "      <td>NaN</td>\n",
       "      <td>125000</td>\n",
       "      <td>5</td>\n",
       "      <td>gasoline</td>\n",
       "      <td>audi</td>\n",
       "      <td>yes</td>\n",
       "      <td>2016-03-24 00:00:00</td>\n",
       "      <td>0</td>\n",
       "      <td>66954</td>\n",
       "      <td>2016-04-07 01:46:50</td>\n",
       "    </tr>\n",
       "    <tr>\n",
       "      <th>2</th>\n",
       "      <td>2016-03-14 12:52:21</td>\n",
       "      <td>9800</td>\n",
       "      <td>suv</td>\n",
       "      <td>2004</td>\n",
       "      <td>auto</td>\n",
       "      <td>163</td>\n",
       "      <td>grand</td>\n",
       "      <td>125000</td>\n",
       "      <td>8</td>\n",
       "      <td>gasoline</td>\n",
       "      <td>jeep</td>\n",
       "      <td>NaN</td>\n",
       "      <td>2016-03-14 00:00:00</td>\n",
       "      <td>0</td>\n",
       "      <td>90480</td>\n",
       "      <td>2016-04-05 12:47:46</td>\n",
       "    </tr>\n",
       "  </tbody>\n",
       "</table>\n",
       "</div>"
      ],
      "text/plain": [
       "           DateCrawled  Price VehicleType  RegistrationYear Gearbox  Power  \\\n",
       "0  2016-03-24 11:52:17    480         NaN              1993  manual      0   \n",
       "1  2016-03-24 10:58:45  18300       coupe              2011  manual    190   \n",
       "2  2016-03-14 12:52:21   9800         suv              2004    auto    163   \n",
       "\n",
       "   Model  Kilometer  RegistrationMonth  FuelType       Brand Repaired  \\\n",
       "0   golf     150000                  0    petrol  volkswagen      NaN   \n",
       "1    NaN     125000                  5  gasoline        audi      yes   \n",
       "2  grand     125000                  8  gasoline        jeep      NaN   \n",
       "\n",
       "           DateCreated  NumberOfPictures  PostalCode             LastSeen  \n",
       "0  2016-03-24 00:00:00                 0       70435  2016-04-07 03:16:57  \n",
       "1  2016-03-24 00:00:00                 0       66954  2016-04-07 01:46:50  \n",
       "2  2016-03-14 00:00:00                 0       90480  2016-04-05 12:47:46  "
      ]
     },
     "execution_count": 4,
     "metadata": {},
     "output_type": "execute_result"
    }
   ],
   "source": [
    "df.head(3)"
   ]
  },
  {
   "cell_type": "code",
   "execution_count": 5,
   "metadata": {},
   "outputs": [
    {
     "name": "stdout",
     "output_type": "stream",
     "text": [
      "<class 'pandas.core.frame.DataFrame'>\n",
      "RangeIndex: 354369 entries, 0 to 354368\n",
      "Data columns (total 16 columns):\n",
      " #   Column             Non-Null Count   Dtype \n",
      "---  ------             --------------   ----- \n",
      " 0   DateCrawled        354369 non-null  object\n",
      " 1   Price              354369 non-null  int64 \n",
      " 2   VehicleType        316879 non-null  object\n",
      " 3   RegistrationYear   354369 non-null  int64 \n",
      " 4   Gearbox            334536 non-null  object\n",
      " 5   Power              354369 non-null  int64 \n",
      " 6   Model              334664 non-null  object\n",
      " 7   Kilometer          354369 non-null  int64 \n",
      " 8   RegistrationMonth  354369 non-null  int64 \n",
      " 9   FuelType           321474 non-null  object\n",
      " 10  Brand              354369 non-null  object\n",
      " 11  Repaired           283215 non-null  object\n",
      " 12  DateCreated        354369 non-null  object\n",
      " 13  NumberOfPictures   354369 non-null  int64 \n",
      " 14  PostalCode         354369 non-null  int64 \n",
      " 15  LastSeen           354369 non-null  object\n",
      "dtypes: int64(7), object(9)\n",
      "memory usage: 43.3+ MB\n"
     ]
    }
   ],
   "source": [
    "df.info()"
   ]
  },
  {
   "cell_type": "markdown",
   "metadata": {},
   "source": [
    "---"
   ]
  },
  {
   "cell_type": "markdown",
   "metadata": {},
   "source": [
    "**Промежуточный вывод:**\n",
    "\n",
    "**В датасете присутствуют данные таких типов:**\n",
    "- object\n",
    "- int64\n",
    "\n",
    "**В некоторых колонка присутствуют пропуски**\n",
    "\n",
    "**В названиях колонок есть нарушение стиля snake_case**\n",
    "\n",
    "**В датасете 16 колонок, названия колонок такие:**\n",
    "\n",
    "**Признаки:**\n",
    "- DateCrawled — дата скачивания анкеты из базы\n",
    "- VehicleType — тип автомобильного кузова\n",
    "- RegistrationYear — год регистрации автомобиля\n",
    "- Gearbox — тип коробки передач\n",
    "- Power — мощность (л. с.)\n",
    "- Model — модель автомобиля\n",
    "- Kilometer — пробег (км)\n",
    "- RegistrationMonth — месяц регистрации автомобиля\n",
    "- FuelType — тип топлива\n",
    "- Brand — марка автомобиля\n",
    "- Repaired — была машина в ремонте или нет\n",
    "- DateCreated — дата создания анкеты\n",
    "- NumberOfPictures — количество фотографий автомобиля\n",
    "- PostalCode — почтовый индекс владельца анкеты (пользователя)\n",
    "- LastSeen — дата последней активности пользователя\n",
    "\n",
    "**Целевой признак**\n",
    "- Price — цена (евро)\n"
   ]
  },
  {
   "cell_type": "markdown",
   "metadata": {},
   "source": [
    "---"
   ]
  },
  {
   "cell_type": "markdown",
   "metadata": {},
   "source": [
    "---"
   ]
  },
  {
   "cell_type": "markdown",
   "metadata": {},
   "source": [
    "### Названия колонок"
   ]
  },
  {
   "cell_type": "markdown",
   "metadata": {},
   "source": [
    "---"
   ]
  },
  {
   "cell_type": "markdown",
   "metadata": {},
   "source": [
    "**Скоректируем названия колонок в соответствии со стилем snake_case:**"
   ]
  },
  {
   "cell_type": "code",
   "execution_count": 6,
   "metadata": {},
   "outputs": [],
   "source": [
    "df = df.rename(\n",
    "    columns={\n",
    "        'DateCrawled': 'date_crawled',\n",
    "        'Price': 'price',\n",
    "        'VehicleType': 'vehicle_type',\n",
    "        'RegistrationYear': 'registration_year',\n",
    "        'Gearbox': 'gearbox',\n",
    "        'Power': 'power',\n",
    "        'Model': 'model',\n",
    "        'Kilometer': 'kilometer',\n",
    "        'RegistrationMonth': 'registration_month',\n",
    "        'FuelType': 'fuel_type',\n",
    "        'Brand': 'brand',\n",
    "        'Repaired': 'repaired',\n",
    "        'DateCreated': 'date_created',\n",
    "        'NumberOfPictures': 'number_of_pictures',\n",
    "        'PostalCode': 'postal_code',\n",
    "        'LastSeen': 'last_seen'\n",
    "    })"
   ]
  },
  {
   "cell_type": "code",
   "execution_count": 7,
   "metadata": {},
   "outputs": [
    {
     "data": {
      "text/html": [
       "<div>\n",
       "<style scoped>\n",
       "    .dataframe tbody tr th:only-of-type {\n",
       "        vertical-align: middle;\n",
       "    }\n",
       "\n",
       "    .dataframe tbody tr th {\n",
       "        vertical-align: top;\n",
       "    }\n",
       "\n",
       "    .dataframe thead th {\n",
       "        text-align: right;\n",
       "    }\n",
       "</style>\n",
       "<table border=\"1\" class=\"dataframe\">\n",
       "  <thead>\n",
       "    <tr style=\"text-align: right;\">\n",
       "      <th></th>\n",
       "      <th>date_crawled</th>\n",
       "      <th>price</th>\n",
       "      <th>vehicle_type</th>\n",
       "      <th>registration_year</th>\n",
       "      <th>gearbox</th>\n",
       "      <th>power</th>\n",
       "      <th>model</th>\n",
       "      <th>kilometer</th>\n",
       "      <th>registration_month</th>\n",
       "      <th>fuel_type</th>\n",
       "      <th>brand</th>\n",
       "      <th>repaired</th>\n",
       "      <th>date_created</th>\n",
       "      <th>number_of_pictures</th>\n",
       "      <th>postal_code</th>\n",
       "      <th>last_seen</th>\n",
       "    </tr>\n",
       "  </thead>\n",
       "  <tbody>\n",
       "    <tr>\n",
       "      <th>0</th>\n",
       "      <td>2016-03-24 11:52:17</td>\n",
       "      <td>480</td>\n",
       "      <td>NaN</td>\n",
       "      <td>1993</td>\n",
       "      <td>manual</td>\n",
       "      <td>0</td>\n",
       "      <td>golf</td>\n",
       "      <td>150000</td>\n",
       "      <td>0</td>\n",
       "      <td>petrol</td>\n",
       "      <td>volkswagen</td>\n",
       "      <td>NaN</td>\n",
       "      <td>2016-03-24 00:00:00</td>\n",
       "      <td>0</td>\n",
       "      <td>70435</td>\n",
       "      <td>2016-04-07 03:16:57</td>\n",
       "    </tr>\n",
       "    <tr>\n",
       "      <th>1</th>\n",
       "      <td>2016-03-24 10:58:45</td>\n",
       "      <td>18300</td>\n",
       "      <td>coupe</td>\n",
       "      <td>2011</td>\n",
       "      <td>manual</td>\n",
       "      <td>190</td>\n",
       "      <td>NaN</td>\n",
       "      <td>125000</td>\n",
       "      <td>5</td>\n",
       "      <td>gasoline</td>\n",
       "      <td>audi</td>\n",
       "      <td>yes</td>\n",
       "      <td>2016-03-24 00:00:00</td>\n",
       "      <td>0</td>\n",
       "      <td>66954</td>\n",
       "      <td>2016-04-07 01:46:50</td>\n",
       "    </tr>\n",
       "    <tr>\n",
       "      <th>2</th>\n",
       "      <td>2016-03-14 12:52:21</td>\n",
       "      <td>9800</td>\n",
       "      <td>suv</td>\n",
       "      <td>2004</td>\n",
       "      <td>auto</td>\n",
       "      <td>163</td>\n",
       "      <td>grand</td>\n",
       "      <td>125000</td>\n",
       "      <td>8</td>\n",
       "      <td>gasoline</td>\n",
       "      <td>jeep</td>\n",
       "      <td>NaN</td>\n",
       "      <td>2016-03-14 00:00:00</td>\n",
       "      <td>0</td>\n",
       "      <td>90480</td>\n",
       "      <td>2016-04-05 12:47:46</td>\n",
       "    </tr>\n",
       "  </tbody>\n",
       "</table>\n",
       "</div>"
      ],
      "text/plain": [
       "          date_crawled  price vehicle_type  registration_year gearbox  power  \\\n",
       "0  2016-03-24 11:52:17    480          NaN               1993  manual      0   \n",
       "1  2016-03-24 10:58:45  18300        coupe               2011  manual    190   \n",
       "2  2016-03-14 12:52:21   9800          suv               2004    auto    163   \n",
       "\n",
       "   model  kilometer  registration_month fuel_type       brand repaired  \\\n",
       "0   golf     150000                   0    petrol  volkswagen      NaN   \n",
       "1    NaN     125000                   5  gasoline        audi      yes   \n",
       "2  grand     125000                   8  gasoline        jeep      NaN   \n",
       "\n",
       "          date_created  number_of_pictures  postal_code            last_seen  \n",
       "0  2016-03-24 00:00:00                   0        70435  2016-04-07 03:16:57  \n",
       "1  2016-03-24 00:00:00                   0        66954  2016-04-07 01:46:50  \n",
       "2  2016-03-14 00:00:00                   0        90480  2016-04-05 12:47:46  "
      ]
     },
     "execution_count": 7,
     "metadata": {},
     "output_type": "execute_result"
    }
   ],
   "source": [
    "df.head(3)"
   ]
  },
  {
   "cell_type": "markdown",
   "metadata": {},
   "source": [
    "---"
   ]
  },
  {
   "cell_type": "markdown",
   "metadata": {},
   "source": [
    "---"
   ]
  },
  {
   "cell_type": "markdown",
   "metadata": {},
   "source": [
    "### Неинформативные признаки"
   ]
  },
  {
   "cell_type": "markdown",
   "metadata": {},
   "source": [
    "---"
   ]
  },
  {
   "cell_type": "markdown",
   "metadata": {},
   "source": [
    "**Мы знаем, что для заказчика важно `высокое качество`, `быстрое обучение` и `предсказания модели`, а также знаем, что модель будет работать в дальнейшем всегда на `будующих объявлениях`.**\n",
    "\n",
    "**Что бы повысить эти показатели, удалим `неинформативные признаки`, такие как `date_crawled`, `date_created`, `postal_code`, `number_of_pictures`, `last_seen`.**"
   ]
  },
  {
   "cell_type": "code",
   "execution_count": 8,
   "metadata": {},
   "outputs": [],
   "source": [
    "df = df.drop(columns=['date_crawled', 'postal_code', 'number_of_pictures', 'last_seen'], axis=1)"
   ]
  },
  {
   "cell_type": "markdown",
   "metadata": {},
   "source": [
    "**Проверим результат:**"
   ]
  },
  {
   "cell_type": "code",
   "execution_count": 9,
   "metadata": {},
   "outputs": [
    {
     "data": {
      "text/html": [
       "<div>\n",
       "<style scoped>\n",
       "    .dataframe tbody tr th:only-of-type {\n",
       "        vertical-align: middle;\n",
       "    }\n",
       "\n",
       "    .dataframe tbody tr th {\n",
       "        vertical-align: top;\n",
       "    }\n",
       "\n",
       "    .dataframe thead th {\n",
       "        text-align: right;\n",
       "    }\n",
       "</style>\n",
       "<table border=\"1\" class=\"dataframe\">\n",
       "  <thead>\n",
       "    <tr style=\"text-align: right;\">\n",
       "      <th></th>\n",
       "      <th>price</th>\n",
       "      <th>vehicle_type</th>\n",
       "      <th>registration_year</th>\n",
       "      <th>gearbox</th>\n",
       "      <th>power</th>\n",
       "      <th>model</th>\n",
       "      <th>kilometer</th>\n",
       "      <th>registration_month</th>\n",
       "      <th>fuel_type</th>\n",
       "      <th>brand</th>\n",
       "      <th>repaired</th>\n",
       "      <th>date_created</th>\n",
       "    </tr>\n",
       "  </thead>\n",
       "  <tbody>\n",
       "    <tr>\n",
       "      <th>0</th>\n",
       "      <td>480</td>\n",
       "      <td>NaN</td>\n",
       "      <td>1993</td>\n",
       "      <td>manual</td>\n",
       "      <td>0</td>\n",
       "      <td>golf</td>\n",
       "      <td>150000</td>\n",
       "      <td>0</td>\n",
       "      <td>petrol</td>\n",
       "      <td>volkswagen</td>\n",
       "      <td>NaN</td>\n",
       "      <td>2016-03-24 00:00:00</td>\n",
       "    </tr>\n",
       "    <tr>\n",
       "      <th>1</th>\n",
       "      <td>18300</td>\n",
       "      <td>coupe</td>\n",
       "      <td>2011</td>\n",
       "      <td>manual</td>\n",
       "      <td>190</td>\n",
       "      <td>NaN</td>\n",
       "      <td>125000</td>\n",
       "      <td>5</td>\n",
       "      <td>gasoline</td>\n",
       "      <td>audi</td>\n",
       "      <td>yes</td>\n",
       "      <td>2016-03-24 00:00:00</td>\n",
       "    </tr>\n",
       "    <tr>\n",
       "      <th>2</th>\n",
       "      <td>9800</td>\n",
       "      <td>suv</td>\n",
       "      <td>2004</td>\n",
       "      <td>auto</td>\n",
       "      <td>163</td>\n",
       "      <td>grand</td>\n",
       "      <td>125000</td>\n",
       "      <td>8</td>\n",
       "      <td>gasoline</td>\n",
       "      <td>jeep</td>\n",
       "      <td>NaN</td>\n",
       "      <td>2016-03-14 00:00:00</td>\n",
       "    </tr>\n",
       "  </tbody>\n",
       "</table>\n",
       "</div>"
      ],
      "text/plain": [
       "   price vehicle_type  registration_year gearbox  power  model  kilometer  \\\n",
       "0    480          NaN               1993  manual      0   golf     150000   \n",
       "1  18300        coupe               2011  manual    190    NaN     125000   \n",
       "2   9800          suv               2004    auto    163  grand     125000   \n",
       "\n",
       "   registration_month fuel_type       brand repaired         date_created  \n",
       "0                   0    petrol  volkswagen      NaN  2016-03-24 00:00:00  \n",
       "1                   5  gasoline        audi      yes  2016-03-24 00:00:00  \n",
       "2                   8  gasoline        jeep      NaN  2016-03-14 00:00:00  "
      ]
     },
     "execution_count": 9,
     "metadata": {},
     "output_type": "execute_result"
    }
   ],
   "source": [
    "df.head(3)"
   ]
  },
  {
   "cell_type": "markdown",
   "metadata": {},
   "source": [
    "---"
   ]
  },
  {
   "cell_type": "markdown",
   "metadata": {},
   "source": [
    "---"
   ]
  },
  {
   "cell_type": "markdown",
   "metadata": {},
   "source": [
    "### Обработка пропусков"
   ]
  },
  {
   "cell_type": "markdown",
   "metadata": {},
   "source": [
    "---"
   ]
  },
  {
   "cell_type": "markdown",
   "metadata": {},
   "source": [
    "**Посмотрим на колличество пропусков в процентном соотношении:**"
   ]
  },
  {
   "cell_type": "code",
   "execution_count": 10,
   "metadata": {},
   "outputs": [
    {
     "data": {
      "text/plain": [
       "price                  0.000000\n",
       "vehicle_type          10.579368\n",
       "registration_year      0.000000\n",
       "gearbox                5.596709\n",
       "power                  0.000000\n",
       "model                  5.560588\n",
       "kilometer              0.000000\n",
       "registration_month     0.000000\n",
       "fuel_type              9.282697\n",
       "brand                  0.000000\n",
       "repaired              20.079070\n",
       "date_created           0.000000\n",
       "dtype: float64"
      ]
     },
     "execution_count": 10,
     "metadata": {},
     "output_type": "execute_result"
    }
   ],
   "source": [
    "df.isna().mean() * 100"
   ]
  },
  {
   "cell_type": "markdown",
   "metadata": {},
   "source": [
    "---"
   ]
  },
  {
   "cell_type": "markdown",
   "metadata": {},
   "source": [
    "**Промежуточный вывод:**\n",
    "\n",
    "**Видим, что пропуски присутствуют в колонках `vehicle_type`, `gearbox`, `model`, `fuel_type`, `repaired`.**\n",
    "\n",
    "**Отметим, что больше всего пропусков в колонке `repaired`, информация в ней - была ли машина в ремонте или нет.**"
   ]
  },
  {
   "cell_type": "markdown",
   "metadata": {},
   "source": [
    "---"
   ]
  },
  {
   "cell_type": "markdown",
   "metadata": {},
   "source": [
    "---"
   ]
  },
  {
   "cell_type": "markdown",
   "metadata": {},
   "source": [
    "**Пропуски в колонке `vehicle_type`, он же тип кузова машины, заполнить по другим колонкам с высокой точностью не получится, поэтому удалим пропуски в этой колонке:**"
   ]
  },
  {
   "cell_type": "code",
   "execution_count": 12,
   "metadata": {},
   "outputs": [],
   "source": [
    "df = df.loc[~df['vehicle_type'].isna()]"
   ]
  },
  {
   "cell_type": "markdown",
   "metadata": {},
   "source": [
    "---"
   ]
  },
  {
   "cell_type": "markdown",
   "metadata": {},
   "source": [
    "---"
   ]
  },
  {
   "cell_type": "markdown",
   "metadata": {},
   "source": [
    "**Пропуски в столбце `model` заполнить с высокой точностью не получится, поэтому удалим пропуски в этой колонке:**"
   ]
  },
  {
   "cell_type": "code",
   "execution_count": 13,
   "metadata": {},
   "outputs": [],
   "source": [
    "df = df.loc[~df['model'].isna()]"
   ]
  },
  {
   "cell_type": "markdown",
   "metadata": {},
   "source": [
    "---"
   ]
  },
  {
   "cell_type": "markdown",
   "metadata": {},
   "source": [
    "---"
   ]
  },
  {
   "cell_type": "markdown",
   "metadata": {},
   "source": [
    "**Пропуски в колонке `gearbox`, тип коробка передач, можно заполнить самым часто встречающимся значением (модой) по конкретной модели автомобиля в строке с пропуском:**"
   ]
  },
  {
   "cell_type": "code",
   "execution_count": 14,
   "metadata": {},
   "outputs": [],
   "source": [
    "for m in df['model'].unique():\n",
    "    df.loc[(df['model'] == m) & (df['gearbox'].isna()), 'gearbox'] = \\\n",
    "    (df.loc[df['model'] == m, 'gearbox'].mode())[0]"
   ]
  },
  {
   "cell_type": "markdown",
   "metadata": {},
   "source": [
    "---"
   ]
  },
  {
   "cell_type": "markdown",
   "metadata": {},
   "source": [
    "---"
   ]
  },
  {
   "cell_type": "markdown",
   "metadata": {},
   "source": [
    "**Посмотрим на уникальные значения колонки `fuel_type`:**"
   ]
  },
  {
   "cell_type": "code",
   "execution_count": 15,
   "metadata": {},
   "outputs": [
    {
     "data": {
      "text/plain": [
       "array(['gasoline', 'petrol', nan, 'lpg', 'other', 'hybrid', 'cng',\n",
       "       'electric'], dtype=object)"
      ]
     },
     "execution_count": 15,
     "metadata": {},
     "output_type": "execute_result"
    }
   ],
   "source": [
    "df['fuel_type'].unique()"
   ]
  },
  {
   "cell_type": "markdown",
   "metadata": {},
   "source": [
    "**Petrol и gasoline на самом деле одно и то же, просто разные слова. Эти два слова имеют одинаковое значение, с той лишь разницей, что они используются в тех местах, где они используются. Термин «petrol» используется в Великобритании, Индии и некоторых других странах, тогда как «gasoline» или «gas» для краткости используется в Соединенных Штатах.**\n",
    "\n",
    "**Заменим два названия одного и того же на одно - например `petrol`:**"
   ]
  },
  {
   "cell_type": "code",
   "execution_count": 16,
   "metadata": {},
   "outputs": [],
   "source": [
    "df.loc[df['fuel_type'] == 'gasoline', 'fuel_type'] = 'petrol'"
   ]
  },
  {
   "cell_type": "markdown",
   "metadata": {},
   "source": [
    "**Пропуски в этой колонки заменим часто встречающимся значением по соответствующей моделе:**"
   ]
  },
  {
   "cell_type": "code",
   "execution_count": 17,
   "metadata": {},
   "outputs": [],
   "source": [
    "for m in df['model'].unique():\n",
    "    df.loc[(df['model'] == m) & (df['fuel_type'].isna()), 'fuel_type'] = \\\n",
    "    (df.loc[df['model'] == m, 'fuel_type'].mode())[0]"
   ]
  },
  {
   "cell_type": "markdown",
   "metadata": {},
   "source": [
    "---"
   ]
  },
  {
   "cell_type": "markdown",
   "metadata": {},
   "source": [
    "---"
   ]
  },
  {
   "cell_type": "markdown",
   "metadata": {},
   "source": [
    "**Пропуски в колонке `repaired`, была ли машина в ремонте или нет, восстановить с высокой точностью без дополнительных данных не получится, заменим пропуски значением 'unknown'**"
   ]
  },
  {
   "cell_type": "code",
   "execution_count": 18,
   "metadata": {},
   "outputs": [],
   "source": [
    "df['repaired'] = df['repaired'].fillna('unknown')"
   ]
  },
  {
   "cell_type": "markdown",
   "metadata": {},
   "source": [
    "---"
   ]
  },
  {
   "cell_type": "markdown",
   "metadata": {},
   "source": [
    "---"
   ]
  },
  {
   "cell_type": "markdown",
   "metadata": {},
   "source": [
    "### Исследование целевой переменной"
   ]
  },
  {
   "cell_type": "markdown",
   "metadata": {},
   "source": [
    "---"
   ]
  },
  {
   "cell_type": "markdown",
   "metadata": {},
   "source": [
    "**Посмотрим на значения в колонке с целевой переменной:**"
   ]
  },
  {
   "cell_type": "code",
   "execution_count": 19,
   "metadata": {
    "scrolled": false
   },
   "outputs": [
    {
     "data": {
      "image/png": "[encoded data removed]",
      "text/plain": [
       "<Figure size 600x600 with 1 Axes>"
      ]
     },
     "metadata": {},
     "output_type": "display_data"
    }
   ],
   "source": [
    "df['price'].hist(bins=60, figsize=[6,6])\n",
    "plt.title('Распределение значений целевой переменной')\n",
    "plt.xlabel('Цена в евро')\n",
    "plt.ylabel('Колличество объявлений')\n",
    "plt.show()"
   ]
  },
  {
   "cell_type": "markdown",
   "metadata": {},
   "source": [
    "---"
   ]
  },
  {
   "cell_type": "markdown",
   "metadata": {},
   "source": [
    "---"
   ]
  },
  {
   "cell_type": "code",
   "execution_count": 20,
   "metadata": {},
   "outputs": [
    {
     "data": {
      "image/png": "[encoded data removed]",
      "text/plain": [
       "<Figure size 640x480 with 1 Axes>"
      ]
     },
     "metadata": {},
     "output_type": "display_data"
    }
   ],
   "source": [
    "plt.boxplot(df['price'])\n",
    "plt.title('Распределение значений целевой переменной')\n",
    "plt.ylabel('Цена в евро')\n",
    "plt.show()"
   ]
  },
  {
   "cell_type": "markdown",
   "metadata": {},
   "source": [
    "**Видим, что есть нулевые значения цены продажи, такие данные не будут способствовать увеличению точности прогноза модели. Также цены в 20000 и несколько сотен евро могут существовать в теории как части автомобиля на продажу, в итоге удалим все что ниже 200 евро:**"
   ]
  },
  {
   "cell_type": "code",
   "execution_count": 21,
   "metadata": {},
   "outputs": [],
   "source": [
    "df = df[df['price'] > 300]"
   ]
  },
  {
   "cell_type": "markdown",
   "metadata": {},
   "source": [
    "---"
   ]
  },
  {
   "cell_type": "markdown",
   "metadata": {},
   "source": [
    "---"
   ]
  },
  {
   "cell_type": "markdown",
   "metadata": {},
   "source": [
    "### Исследование признаков"
   ]
  },
  {
   "cell_type": "markdown",
   "metadata": {},
   "source": [
    "**Посмотрим на признак `power`, мощность:**"
   ]
  },
  {
   "cell_type": "code",
   "execution_count": 22,
   "metadata": {
    "scrolled": false
   },
   "outputs": [
    {
     "data": {
      "image/png": "[encoded data removed]",
      "text/plain": [
       "<Figure size 640x480 with 1 Axes>"
      ]
     },
     "metadata": {},
     "output_type": "display_data"
    }
   ],
   "source": [
    "plt.boxplot(df['power'])\n",
    "plt.title('Распределение значений мощьности, в л. с.')\n",
    "plt.ylabel('Мощность')\n",
    "plt.ylim(0,350)\n",
    "plt.show()"
   ]
  },
  {
   "cell_type": "markdown",
   "metadata": {},
   "source": [
    "---"
   ]
  },
  {
   "cell_type": "code",
   "execution_count": 23,
   "metadata": {},
   "outputs": [
    {
     "data": {
      "text/plain": [
       "count    288181.000000\n",
       "mean        117.134693\n",
       "std         178.966803\n",
       "min           0.000000\n",
       "5%            0.000000\n",
       "10%          54.000000\n",
       "15%          60.000000\n",
       "20%          69.000000\n",
       "25%          75.000000\n",
       "50%         109.000000\n",
       "75%         147.000000\n",
       "80%         156.000000\n",
       "85%         170.000000\n",
       "90%         185.000000\n",
       "95%         220.000000\n",
       "97.5%       245.000000\n",
       "99%         300.000000\n",
       "max       20000.000000\n",
       "Name: power, dtype: float64"
      ]
     },
     "execution_count": 23,
     "metadata": {},
     "output_type": "execute_result"
    }
   ],
   "source": [
    "df['power'].describe(percentiles=[0.05, 0.1, 0.15, 0.20, 0.25, 0.5, 0.75, 0.8, 0.85, 0.9, 0.95, 0.975, 0.99])"
   ]
  },
  {
   "cell_type": "markdown",
   "metadata": {},
   "source": [
    "**По графикам и полученной информации с помошью метода describe, делаем вывод, что мощность ниже 54 и выше 300 л. с. является аномальной, удалим значения ниже 0.1 и выше 0.99 квантиля:**"
   ]
  },
  {
   "cell_type": "code",
   "execution_count": 24,
   "metadata": {},
   "outputs": [],
   "source": [
    "df = df[(df['power'] >= df['power'].quantile(0.1)) & ( df['power'] <= df['power'].quantile(0.99) )]"
   ]
  },
  {
   "cell_type": "markdown",
   "metadata": {},
   "source": [
    "---"
   ]
  },
  {
   "cell_type": "markdown",
   "metadata": {},
   "source": [
    "---"
   ]
  },
  {
   "cell_type": "markdown",
   "metadata": {},
   "source": [
    "**Посмотрим на номера месяцев подачи объявления:**"
   ]
  },
  {
   "cell_type": "code",
   "execution_count": 25,
   "metadata": {},
   "outputs": [
    {
     "data": {
      "text/plain": [
       "array([ 0,  1,  2,  3,  4,  5,  6,  7,  8,  9, 10, 11, 12])"
      ]
     },
     "execution_count": 25,
     "metadata": {},
     "output_type": "execute_result"
    }
   ],
   "source": [
    "np.sort(df['registration_month'].unique())"
   ]
  },
  {
   "cell_type": "markdown",
   "metadata": {},
   "source": [
    "**Предпологаем, что пользователь, при создании объявления в январе не указал 1-й номер месяца, заменим 0 на 1:**"
   ]
  },
  {
   "cell_type": "code",
   "execution_count": 26,
   "metadata": {},
   "outputs": [],
   "source": [
    "df.loc[df['registration_month'] == 0, 'registration_month'] = 1"
   ]
  },
  {
   "cell_type": "markdown",
   "metadata": {},
   "source": [
    "---"
   ]
  },
  {
   "cell_type": "markdown",
   "metadata": {},
   "source": [
    "---"
   ]
  },
  {
   "cell_type": "markdown",
   "metadata": {},
   "source": [
    "**Посмотрим на колонку `registration_year` и `date_created`:**"
   ]
  },
  {
   "cell_type": "code",
   "execution_count": 27,
   "metadata": {},
   "outputs": [
    {
     "data": {
      "text/plain": [
       "count    257965.000000\n",
       "mean       2003.057182\n",
       "std           5.907960\n",
       "min        1910.000000\n",
       "25%        1999.000000\n",
       "50%        2003.000000\n",
       "75%        2007.000000\n",
       "max        2018.000000\n",
       "Name: registration_year, dtype: float64"
      ]
     },
     "execution_count": 27,
     "metadata": {},
     "output_type": "execute_result"
    }
   ],
   "source": [
    "df['registration_year'].describe()"
   ]
  },
  {
   "cell_type": "markdown",
   "metadata": {},
   "source": [
    "**Видим, что максимальный год регистрации автомобиля  = 2018.**"
   ]
  },
  {
   "cell_type": "markdown",
   "metadata": {},
   "source": [
    "**Преобразуем данные в колонке `date_created` в тип datetime:**"
   ]
  },
  {
   "cell_type": "code",
   "execution_count": 28,
   "metadata": {
    "scrolled": true
   },
   "outputs": [
    {
     "data": {
      "text/plain": [
       "2   2016-03-14\n",
       "3   2016-03-17\n",
       "4   2016-03-31\n",
       "Name: date_created, dtype: datetime64[ns]"
      ]
     },
     "execution_count": 28,
     "metadata": {},
     "output_type": "execute_result"
    }
   ],
   "source": [
    "df['date_created'] = pd.to_datetime(df['date_created'], format='%Y-%m-%dT%H:%M:%S')\n",
    "df['date_created'].head(3)"
   ]
  },
  {
   "cell_type": "markdown",
   "metadata": {},
   "source": [
    "**Часы, минуты и секунды отсутствуют, посмотрим на максимальное значение года создания обявления:**"
   ]
  },
  {
   "cell_type": "code",
   "execution_count": 29,
   "metadata": {},
   "outputs": [
    {
     "data": {
      "text/plain": [
       "2016"
      ]
     },
     "execution_count": 29,
     "metadata": {},
     "output_type": "execute_result"
    }
   ],
   "source": [
    "pd.DatetimeIndex(df['date_created']).year.max()"
   ]
  },
  {
   "cell_type": "markdown",
   "metadata": {},
   "source": [
    "**Год создания объявления не должен быть больше года регистрации автомобиля, удалим аномальные значения:**"
   ]
  },
  {
   "cell_type": "code",
   "execution_count": 30,
   "metadata": {},
   "outputs": [],
   "source": [
    "df = df[df['registration_year'] <= 2016]"
   ]
  },
  {
   "cell_type": "markdown",
   "metadata": {},
   "source": [
    "---"
   ]
  },
  {
   "cell_type": "markdown",
   "metadata": {},
   "source": [
    "**Дополнительно удалим колонку `date_created`, как не информативный признак:**"
   ]
  },
  {
   "cell_type": "code",
   "execution_count": 31,
   "metadata": {},
   "outputs": [],
   "source": [
    "df = df.drop('date_created', axis=1)"
   ]
  },
  {
   "cell_type": "markdown",
   "metadata": {},
   "source": [
    "---"
   ]
  },
  {
   "cell_type": "markdown",
   "metadata": {},
   "source": [
    "---"
   ]
  },
  {
   "cell_type": "markdown",
   "metadata": {},
   "source": [
    "### Обработка дубликатов"
   ]
  },
  {
   "cell_type": "code",
   "execution_count": 32,
   "metadata": {},
   "outputs": [
    {
     "data": {
      "text/plain": [
       "22404"
      ]
     },
     "execution_count": 32,
     "metadata": {},
     "output_type": "execute_result"
    }
   ],
   "source": [
    "df.duplicated().sum()"
   ]
  },
  {
   "cell_type": "markdown",
   "metadata": {},
   "source": [
    "**Обнуружили явные дубликаты, удалим их:**"
   ]
  },
  {
   "cell_type": "code",
   "execution_count": 33,
   "metadata": {},
   "outputs": [],
   "source": [
    "df = df.drop_duplicates()"
   ]
  },
  {
   "cell_type": "markdown",
   "metadata": {},
   "source": [
    "---"
   ]
  },
  {
   "cell_type": "markdown",
   "metadata": {},
   "source": [
    "---"
   ]
  },
  {
   "cell_type": "markdown",
   "metadata": {},
   "source": [
    "### Промежуточный вывод"
   ]
  },
  {
   "cell_type": "markdown",
   "metadata": {},
   "source": [
    "**Промежуточный вывод:**\n",
    "\n",
    "**Для того что бы добиться цели - создать модель для максимально точного определения цены автомобиля, для обучения нам нужны только достоверные, адекватные данные. По этому мы провели тщательную подготовку данных и удалили все что могло бы ухудшить качество модели:**\n",
    "- сменили названия колонок\n",
    "- удалили неинформативные признаки для дальнейшего обучения модели\n",
    "- заполнили пропуски где это возможно, удалили где нет возможности заполнить\n",
    "- обработали аномальные значени в признаках\n",
    "- обработали дубликаты\n",
    "\n",
    "**Оставшихся данных достаточно для дальнейшего исследования.**"
   ]
  },
  {
   "cell_type": "markdown",
   "metadata": {},
   "source": [
    "---"
   ]
  },
  {
   "cell_type": "markdown",
   "metadata": {},
   "source": [
    "---"
   ]
  },
  {
   "cell_type": "markdown",
   "metadata": {},
   "source": [
    "## Обучение моделей"
   ]
  },
  {
   "cell_type": "markdown",
   "metadata": {},
   "source": [
    "---"
   ]
  },
  {
   "cell_type": "markdown",
   "metadata": {},
   "source": [
    "---"
   ]
  },
  {
   "cell_type": "markdown",
   "metadata": {},
   "source": [
    "### Деление на выборки"
   ]
  },
  {
   "cell_type": "markdown",
   "metadata": {},
   "source": [
    "**Выделим признаки и целевой признак:**"
   ]
  },
  {
   "cell_type": "code",
   "execution_count": 35,
   "metadata": {},
   "outputs": [],
   "source": [
    "target = df['price']\n",
    "features = df.drop('price', axis=1)"
   ]
  },
  {
   "cell_type": "markdown",
   "metadata": {},
   "source": [
    "**Поделим данные на выборки:**"
   ]
  },
  {
   "cell_type": "code",
   "execution_count": 36,
   "metadata": {},
   "outputs": [],
   "source": [
    "features_train, features_test, target_train, target_test = train_test_split(\n",
    "features, target, test_size=0.25, random_state=RS, shuffle=False)"
   ]
  },
  {
   "cell_type": "markdown",
   "metadata": {},
   "source": [
    "**Сбросим индексы в выборках:**"
   ]
  },
  {
   "cell_type": "code",
   "execution_count": 37,
   "metadata": {},
   "outputs": [],
   "source": [
    "features_train.reset_index(drop= True , inplace= True )\n",
    "features_test.reset_index(drop= True , inplace= True )\n",
    "target_train.reset_index(drop= True , inplace= True )\n",
    "target_test.reset_index(drop= True , inplace= True )"
   ]
  },
  {
   "cell_type": "markdown",
   "metadata": {},
   "source": [
    "---"
   ]
  },
  {
   "cell_type": "markdown",
   "metadata": {},
   "source": [
    "---"
   ]
  },
  {
   "cell_type": "markdown",
   "metadata": {},
   "source": [
    "#### Кодирование категориальных признаков"
   ]
  },
  {
   "cell_type": "markdown",
   "metadata": {},
   "source": [
    "**У нас есть категориальные признаки в колонках:**\n",
    "- vehicle_type \n",
    "- gearbox\n",
    "- model\n",
    "- fuel_type\n",
    "- brand\n",
    "- repaired"
   ]
  },
  {
   "cell_type": "markdown",
   "metadata": {},
   "source": [
    "---"
   ]
  },
  {
   "cell_type": "markdown",
   "metadata": {},
   "source": [
    "**Кодируем категориальные признаки с помощью OrdinalEncoder:**"
   ]
  },
  {
   "cell_type": "code",
   "execution_count": 38,
   "metadata": {},
   "outputs": [],
   "source": [
    "categorical = ['vehicle_type', 'gearbox', 'model', 'fuel_type', 'brand', 'repaired']\n",
    "\n",
    "or_enc = OrdinalEncoder(handle_unknown='use_encoded_value', unknown_value=999)\n",
    "or_enc.fit(features_train[categorical])\n",
    "\n",
    "features_train[categorical] = pd.DataFrame(or_enc.transform(features_train[categorical]),\n",
    "                                          columns=features_train[categorical].columns) \n",
    "\n",
    "features_test[categorical] = pd.DataFrame(or_enc.transform(features_test[categorical]),\n",
    "                                          columns=features_test[categorical].columns) "
   ]
  },
  {
   "cell_type": "markdown",
   "metadata": {},
   "source": [
    "---"
   ]
  },
  {
   "cell_type": "markdown",
   "metadata": {},
   "source": [
    "---"
   ]
  },
  {
   "cell_type": "markdown",
   "metadata": {},
   "source": [
    "#### Масштабирования численных признаков"
   ]
  },
  {
   "cell_type": "markdown",
   "metadata": {},
   "source": [
    "**У нас есть численные признаки в колонках:**\n",
    "\n",
    "- registration_year\n",
    "- power\n",
    "- kilometer\n",
    "- registration_month"
   ]
  },
  {
   "cell_type": "markdown",
   "metadata": {},
   "source": [
    "---"
   ]
  },
  {
   "cell_type": "markdown",
   "metadata": {},
   "source": [
    "**Будем масштабировать численные признаки с помощью StandardScaler:**"
   ]
  },
  {
   "cell_type": "code",
   "execution_count": 39,
   "metadata": {},
   "outputs": [],
   "source": [
    "numeric = [\n",
    "    'registration_year',\n",
    "    'power',\n",
    "    'kilometer',\n",
    "    'registration_month'\n",
    "]\n",
    "\n",
    "scaler = StandardScaler()\n",
    "\n",
    "scaler.fit(features_train[numeric])\n",
    "features_train[numeric] = scaler.transform(features_train[numeric])\n",
    "\n",
    "features_test[numeric] = scaler.transform(features_test[numeric])"
   ]
  },
  {
   "cell_type": "markdown",
   "metadata": {},
   "source": [
    "---"
   ]
  },
  {
   "cell_type": "markdown",
   "metadata": {},
   "source": [
    "---"
   ]
  },
  {
   "cell_type": "markdown",
   "metadata": {},
   "source": [
    "### LightGBM"
   ]
  },
  {
   "cell_type": "markdown",
   "metadata": {},
   "source": [
    "---"
   ]
  },
  {
   "cell_type": "markdown",
   "metadata": {},
   "source": [
    "**Создадим модель, сделаем подбор гиперпараметров с помощью GridSearchCV:**"
   ]
  },
  {
   "cell_type": "code",
   "execution_count": 40,
   "metadata": {},
   "outputs": [
    {
     "name": "stdout",
     "output_type": "stream",
     "text": [
      "CPU times: user 77 µs, sys: 1 µs, total: 78 µs\n",
      "Wall time: 84.2 µs\n"
     ]
    }
   ],
   "source": [
    "%%time\n",
    "gbm_params = {\n",
    "    'objective': ['regression'],\n",
    "    'max_depth': [5, 10, 20],\n",
    "    'num_leaves': [100, 200, 400]\n",
    "}\n",
    "\n",
    "gbm_reg = lgb.LGBMRegressor(random_state=RS)\n",
    "gbm_gscv = GridSearchCV(gbm_reg, gbm_params, scoring='neg_root_mean_squared_error', n_jobs=-1, cv=3)"
   ]
  },
  {
   "cell_type": "markdown",
   "metadata": {},
   "source": [
    "---"
   ]
  },
  {
   "cell_type": "markdown",
   "metadata": {},
   "source": [
    "**Обучим модель:**"
   ]
  },
  {
   "cell_type": "code",
   "execution_count": 41,
   "metadata": {
    "scrolled": true
   },
   "outputs": [
    {
     "name": "stderr",
     "output_type": "stream",
     "text": [
      "/Users/admin_mbp_15_2012/opt/anaconda3/envs/ds_practicum_env/lib/python3.9/site-packages/lightgbm/basic.py:2065: UserWarning: Using categorical_feature in Dataset.\n",
      "  _log_warning('Using categorical_feature in Dataset.')\n",
      "/Users/admin_mbp_15_2012/opt/anaconda3/envs/ds_practicum_env/lib/python3.9/site-packages/lightgbm/basic.py:2065: UserWarning: Using categorical_feature in Dataset.\n",
      "  _log_warning('Using categorical_feature in Dataset.')\n",
      "/Users/admin_mbp_15_2012/opt/anaconda3/envs/ds_practicum_env/lib/python3.9/site-packages/lightgbm/basic.py:2065: UserWarning: Using categorical_feature in Dataset.\n",
      "  _log_warning('Using categorical_feature in Dataset.')\n",
      "/Users/admin_mbp_15_2012/opt/anaconda3/envs/ds_practicum_env/lib/python3.9/site-packages/lightgbm/basic.py:2065: UserWarning: Using categorical_feature in Dataset.\n",
      "  _log_warning('Using categorical_feature in Dataset.')\n",
      "/Users/admin_mbp_15_2012/opt/anaconda3/envs/ds_practicum_env/lib/python3.9/site-packages/lightgbm/basic.py:2065: UserWarning: Using categorical_feature in Dataset.\n",
      "  _log_warning('Using categorical_feature in Dataset.')\n",
      "/Users/admin_mbp_15_2012/opt/anaconda3/envs/ds_practicum_env/lib/python3.9/site-packages/lightgbm/basic.py:2065: UserWarning: Using categorical_feature in Dataset.\n",
      "  _log_warning('Using categorical_feature in Dataset.')\n",
      "/Users/admin_mbp_15_2012/opt/anaconda3/envs/ds_practicum_env/lib/python3.9/site-packages/lightgbm/basic.py:2065: UserWarning: Using categorical_feature in Dataset.\n",
      "  _log_warning('Using categorical_feature in Dataset.')\n",
      "/Users/admin_mbp_15_2012/opt/anaconda3/envs/ds_practicum_env/lib/python3.9/site-packages/lightgbm/basic.py:2065: UserWarning: Using categorical_feature in Dataset.\n",
      "  _log_warning('Using categorical_feature in Dataset.')\n",
      "/Users/admin_mbp_15_2012/opt/anaconda3/envs/ds_practicum_env/lib/python3.9/site-packages/lightgbm/basic.py:2065: UserWarning: Using categorical_feature in Dataset.\n",
      "  _log_warning('Using categorical_feature in Dataset.')\n",
      "/Users/admin_mbp_15_2012/opt/anaconda3/envs/ds_practicum_env/lib/python3.9/site-packages/lightgbm/basic.py:2065: UserWarning: Using categorical_feature in Dataset.\n",
      "  _log_warning('Using categorical_feature in Dataset.')\n",
      "/Users/admin_mbp_15_2012/opt/anaconda3/envs/ds_practicum_env/lib/python3.9/site-packages/lightgbm/basic.py:2065: UserWarning: Using categorical_feature in Dataset.\n",
      "  _log_warning('Using categorical_feature in Dataset.')\n",
      "/Users/admin_mbp_15_2012/opt/anaconda3/envs/ds_practicum_env/lib/python3.9/site-packages/lightgbm/basic.py:2065: UserWarning: Using categorical_feature in Dataset.\n",
      "  _log_warning('Using categorical_feature in Dataset.')\n",
      "/Users/admin_mbp_15_2012/opt/anaconda3/envs/ds_practicum_env/lib/python3.9/site-packages/lightgbm/basic.py:2065: UserWarning: Using categorical_feature in Dataset.\n",
      "  _log_warning('Using categorical_feature in Dataset.')\n",
      "/Users/admin_mbp_15_2012/opt/anaconda3/envs/ds_practicum_env/lib/python3.9/site-packages/lightgbm/basic.py:2065: UserWarning: Using categorical_feature in Dataset.\n",
      "  _log_warning('Using categorical_feature in Dataset.')\n",
      "/Users/admin_mbp_15_2012/opt/anaconda3/envs/ds_practicum_env/lib/python3.9/site-packages/lightgbm/basic.py:2065: UserWarning: Using categorical_feature in Dataset.\n",
      "  _log_warning('Using categorical_feature in Dataset.')\n",
      "/Users/admin_mbp_15_2012/opt/anaconda3/envs/ds_practicum_env/lib/python3.9/site-packages/lightgbm/basic.py:2065: UserWarning: Using categorical_feature in Dataset.\n",
      "  _log_warning('Using categorical_feature in Dataset.')\n",
      "/Users/admin_mbp_15_2012/opt/anaconda3/envs/ds_practicum_env/lib/python3.9/site-packages/lightgbm/basic.py:2065: UserWarning: Using categorical_feature in Dataset.\n",
      "  _log_warning('Using categorical_feature in Dataset.')\n",
      "/Users/admin_mbp_15_2012/opt/anaconda3/envs/ds_practicum_env/lib/python3.9/site-packages/lightgbm/basic.py:2065: UserWarning: Using categorical_feature in Dataset.\n",
      "  _log_warning('Using categorical_feature in Dataset.')\n",
      "/Users/admin_mbp_15_2012/opt/anaconda3/envs/ds_practicum_env/lib/python3.9/site-packages/lightgbm/basic.py:2065: UserWarning: Using categorical_feature in Dataset.\n",
      "  _log_warning('Using categorical_feature in Dataset.')\n",
      "/Users/admin_mbp_15_2012/opt/anaconda3/envs/ds_practicum_env/lib/python3.9/site-packages/lightgbm/basic.py:2065: UserWarning: Using categorical_feature in Dataset.\n",
      "  _log_warning('Using categorical_feature in Dataset.')\n",
      "/Users/admin_mbp_15_2012/opt/anaconda3/envs/ds_practicum_env/lib/python3.9/site-packages/lightgbm/basic.py:2065: UserWarning: Using categorical_feature in Dataset.\n",
      "  _log_warning('Using categorical_feature in Dataset.')\n",
      "/Users/admin_mbp_15_2012/opt/anaconda3/envs/ds_practicum_env/lib/python3.9/site-packages/lightgbm/basic.py:2065: UserWarning: Using categorical_feature in Dataset.\n",
      "  _log_warning('Using categorical_feature in Dataset.')\n",
      "/Users/admin_mbp_15_2012/opt/anaconda3/envs/ds_practicum_env/lib/python3.9/site-packages/lightgbm/basic.py:2065: UserWarning: Using categorical_feature in Dataset.\n",
      "  _log_warning('Using categorical_feature in Dataset.')\n",
      "/Users/admin_mbp_15_2012/opt/anaconda3/envs/ds_practicum_env/lib/python3.9/site-packages/lightgbm/basic.py:2065: UserWarning: Using categorical_feature in Dataset.\n",
      "  _log_warning('Using categorical_feature in Dataset.')\n",
      "/Users/admin_mbp_15_2012/opt/anaconda3/envs/ds_practicum_env/lib/python3.9/site-packages/lightgbm/basic.py:2065: UserWarning: Using categorical_feature in Dataset.\n",
      "  _log_warning('Using categorical_feature in Dataset.')\n",
      "/Users/admin_mbp_15_2012/opt/anaconda3/envs/ds_practicum_env/lib/python3.9/site-packages/lightgbm/basic.py:2065: UserWarning: Using categorical_feature in Dataset.\n",
      "  _log_warning('Using categorical_feature in Dataset.')\n",
      "/Users/admin_mbp_15_2012/opt/anaconda3/envs/ds_practicum_env/lib/python3.9/site-packages/lightgbm/basic.py:2065: UserWarning: Using categorical_feature in Dataset.\n",
      "  _log_warning('Using categorical_feature in Dataset.')\n"
     ]
    },
    {
     "name": "stdout",
     "output_type": "stream",
     "text": [
      "CPU times: user 27 s, sys: 2.26 s, total: 29.2 s\n",
      "Wall time: 25.3 s\n"
     ]
    },
    {
     "data": {
      "text/plain": [
       "GridSearchCV(cv=3, estimator=LGBMRegressor(random_state=1234), n_jobs=-1,\n",
       "             param_grid={'max_depth': [5, 10, 20],\n",
       "                         'num_leaves': [100, 200, 400],\n",
       "                         'objective': ['regression']},\n",
       "             scoring='neg_root_mean_squared_error')"
      ]
     },
     "execution_count": 41,
     "metadata": {},
     "output_type": "execute_result"
    }
   ],
   "source": [
    "%%time\n",
    "gbm_gscv.fit(features_train, target_train, categorical_feature=categorical)\n",
    "gbm_gscv"
   ]
  },
  {
   "cell_type": "markdown",
   "metadata": {},
   "source": [
    "---"
   ]
  },
  {
   "cell_type": "markdown",
   "metadata": {},
   "source": [
    "**Посмотрим на показатели в ходе GridSearchCV:**"
   ]
  },
  {
   "cell_type": "code",
   "execution_count": 42,
   "metadata": {
    "scrolled": true
   },
   "outputs": [
    {
     "data": {
      "text/html": [
       "<div>\n",
       "<style scoped>\n",
       "    .dataframe tbody tr th:only-of-type {\n",
       "        vertical-align: middle;\n",
       "    }\n",
       "\n",
       "    .dataframe tbody tr th {\n",
       "        vertical-align: top;\n",
       "    }\n",
       "\n",
       "    .dataframe thead th {\n",
       "        text-align: right;\n",
       "    }\n",
       "</style>\n",
       "<table border=\"1\" class=\"dataframe\">\n",
       "  <thead>\n",
       "    <tr style=\"text-align: right;\">\n",
       "      <th></th>\n",
       "      <th>mean_fit_time</th>\n",
       "      <th>std_fit_time</th>\n",
       "      <th>mean_score_time</th>\n",
       "      <th>std_score_time</th>\n",
       "      <th>param_max_depth</th>\n",
       "      <th>param_num_leaves</th>\n",
       "      <th>param_objective</th>\n",
       "      <th>params</th>\n",
       "      <th>split0_test_score</th>\n",
       "      <th>split1_test_score</th>\n",
       "      <th>split2_test_score</th>\n",
       "      <th>mean_test_score</th>\n",
       "      <th>std_test_score</th>\n",
       "      <th>rank_test_score</th>\n",
       "    </tr>\n",
       "  </thead>\n",
       "  <tbody>\n",
       "    <tr>\n",
       "      <th>0</th>\n",
       "      <td>2.272583</td>\n",
       "      <td>0.096849</td>\n",
       "      <td>0.866610</td>\n",
       "      <td>0.005547</td>\n",
       "      <td>5</td>\n",
       "      <td>100</td>\n",
       "      <td>regression</td>\n",
       "      <td>{'max_depth': 5, 'num_leaves': 100, 'objective...</td>\n",
       "      <td>-1572.043482</td>\n",
       "      <td>-1593.807745</td>\n",
       "      <td>-1557.734227</td>\n",
       "      <td>-1574.528484</td>\n",
       "      <td>14.831410</td>\n",
       "      <td>7</td>\n",
       "    </tr>\n",
       "    <tr>\n",
       "      <th>1</th>\n",
       "      <td>2.205923</td>\n",
       "      <td>0.014548</td>\n",
       "      <td>0.874034</td>\n",
       "      <td>0.015496</td>\n",
       "      <td>5</td>\n",
       "      <td>200</td>\n",
       "      <td>regression</td>\n",
       "      <td>{'max_depth': 5, 'num_leaves': 200, 'objective...</td>\n",
       "      <td>-1572.043482</td>\n",
       "      <td>-1593.807745</td>\n",
       "      <td>-1557.734227</td>\n",
       "      <td>-1574.528484</td>\n",
       "      <td>14.831410</td>\n",
       "      <td>7</td>\n",
       "    </tr>\n",
       "    <tr>\n",
       "      <th>2</th>\n",
       "      <td>2.098196</td>\n",
       "      <td>0.154651</td>\n",
       "      <td>0.859336</td>\n",
       "      <td>0.055633</td>\n",
       "      <td>5</td>\n",
       "      <td>400</td>\n",
       "      <td>regression</td>\n",
       "      <td>{'max_depth': 5, 'num_leaves': 400, 'objective...</td>\n",
       "      <td>-1572.043482</td>\n",
       "      <td>-1593.807745</td>\n",
       "      <td>-1557.734227</td>\n",
       "      <td>-1574.528484</td>\n",
       "      <td>14.831410</td>\n",
       "      <td>7</td>\n",
       "    </tr>\n",
       "    <tr>\n",
       "      <th>3</th>\n",
       "      <td>3.299508</td>\n",
       "      <td>0.037408</td>\n",
       "      <td>1.358162</td>\n",
       "      <td>0.015930</td>\n",
       "      <td>10</td>\n",
       "      <td>100</td>\n",
       "      <td>regression</td>\n",
       "      <td>{'max_depth': 10, 'num_leaves': 100, 'objectiv...</td>\n",
       "      <td>-1518.747908</td>\n",
       "      <td>-1537.555712</td>\n",
       "      <td>-1507.925110</td>\n",
       "      <td>-1521.409577</td>\n",
       "      <td>12.242182</td>\n",
       "      <td>6</td>\n",
       "    </tr>\n",
       "    <tr>\n",
       "      <th>4</th>\n",
       "      <td>4.003100</td>\n",
       "      <td>0.037490</td>\n",
       "      <td>1.900667</td>\n",
       "      <td>0.029524</td>\n",
       "      <td>10</td>\n",
       "      <td>200</td>\n",
       "      <td>regression</td>\n",
       "      <td>{'max_depth': 10, 'num_leaves': 200, 'objectiv...</td>\n",
       "      <td>-1506.087732</td>\n",
       "      <td>-1527.387374</td>\n",
       "      <td>-1499.296698</td>\n",
       "      <td>-1510.923934</td>\n",
       "      <td>11.966987</td>\n",
       "      <td>3</td>\n",
       "    </tr>\n",
       "    <tr>\n",
       "      <th>5</th>\n",
       "      <td>4.166085</td>\n",
       "      <td>0.250035</td>\n",
       "      <td>2.539547</td>\n",
       "      <td>0.179025</td>\n",
       "      <td>10</td>\n",
       "      <td>400</td>\n",
       "      <td>regression</td>\n",
       "      <td>{'max_depth': 10, 'num_leaves': 400, 'objectiv...</td>\n",
       "      <td>-1508.330288</td>\n",
       "      <td>-1527.737035</td>\n",
       "      <td>-1497.491297</td>\n",
       "      <td>-1511.186207</td>\n",
       "      <td>12.511817</td>\n",
       "      <td>4</td>\n",
       "    </tr>\n",
       "    <tr>\n",
       "      <th>6</th>\n",
       "      <td>3.156218</td>\n",
       "      <td>0.101216</td>\n",
       "      <td>1.581811</td>\n",
       "      <td>0.047904</td>\n",
       "      <td>20</td>\n",
       "      <td>100</td>\n",
       "      <td>regression</td>\n",
       "      <td>{'max_depth': 20, 'num_leaves': 100, 'objectiv...</td>\n",
       "      <td>-1512.281778</td>\n",
       "      <td>-1535.409029</td>\n",
       "      <td>-1507.665016</td>\n",
       "      <td>-1518.451941</td>\n",
       "      <td>12.137703</td>\n",
       "      <td>5</td>\n",
       "    </tr>\n",
       "    <tr>\n",
       "      <th>7</th>\n",
       "      <td>4.392375</td>\n",
       "      <td>0.079661</td>\n",
       "      <td>1.611536</td>\n",
       "      <td>0.124906</td>\n",
       "      <td>20</td>\n",
       "      <td>200</td>\n",
       "      <td>regression</td>\n",
       "      <td>{'max_depth': 20, 'num_leaves': 200, 'objectiv...</td>\n",
       "      <td>-1501.409400</td>\n",
       "      <td>-1522.661060</td>\n",
       "      <td>-1494.524269</td>\n",
       "      <td>-1506.198243</td>\n",
       "      <td>11.975517</td>\n",
       "      <td>2</td>\n",
       "    </tr>\n",
       "    <tr>\n",
       "      <th>8</th>\n",
       "      <td>4.127459</td>\n",
       "      <td>0.047435</td>\n",
       "      <td>1.531403</td>\n",
       "      <td>0.023612</td>\n",
       "      <td>20</td>\n",
       "      <td>400</td>\n",
       "      <td>regression</td>\n",
       "      <td>{'max_depth': 20, 'num_leaves': 400, 'objectiv...</td>\n",
       "      <td>-1500.693473</td>\n",
       "      <td>-1519.571947</td>\n",
       "      <td>-1493.633937</td>\n",
       "      <td>-1504.633119</td>\n",
       "      <td>10.949450</td>\n",
       "      <td>1</td>\n",
       "    </tr>\n",
       "  </tbody>\n",
       "</table>\n",
       "</div>"
      ],
      "text/plain": [
       "   mean_fit_time  std_fit_time  mean_score_time  std_score_time  \\\n",
       "0       2.272583      0.096849         0.866610        0.005547   \n",
       "1       2.205923      0.014548         0.874034        0.015496   \n",
       "2       2.098196      0.154651         0.859336        0.055633   \n",
       "3       3.299508      0.037408         1.358162        0.015930   \n",
       "4       4.003100      0.037490         1.900667        0.029524   \n",
       "5       4.166085      0.250035         2.539547        0.179025   \n",
       "6       3.156218      0.101216         1.581811        0.047904   \n",
       "7       4.392375      0.079661         1.611536        0.124906   \n",
       "8       4.127459      0.047435         1.531403        0.023612   \n",
       "\n",
       "  param_max_depth param_num_leaves param_objective  \\\n",
       "0               5              100      regression   \n",
       "1               5              200      regression   \n",
       "2               5              400      regression   \n",
       "3              10              100      regression   \n",
       "4              10              200      regression   \n",
       "5              10              400      regression   \n",
       "6              20              100      regression   \n",
       "7              20              200      regression   \n",
       "8              20              400      regression   \n",
       "\n",
       "                                              params  split0_test_score  \\\n",
       "0  {'max_depth': 5, 'num_leaves': 100, 'objective...       -1572.043482   \n",
       "1  {'max_depth': 5, 'num_leaves': 200, 'objective...       -1572.043482   \n",
       "2  {'max_depth': 5, 'num_leaves': 400, 'objective...       -1572.043482   \n",
       "3  {'max_depth': 10, 'num_leaves': 100, 'objectiv...       -1518.747908   \n",
       "4  {'max_depth': 10, 'num_leaves': 200, 'objectiv...       -1506.087732   \n",
       "5  {'max_depth': 10, 'num_leaves': 400, 'objectiv...       -1508.330288   \n",
       "6  {'max_depth': 20, 'num_leaves': 100, 'objectiv...       -1512.281778   \n",
       "7  {'max_depth': 20, 'num_leaves': 200, 'objectiv...       -1501.409400   \n",
       "8  {'max_depth': 20, 'num_leaves': 400, 'objectiv...       -1500.693473   \n",
       "\n",
       "   split1_test_score  split2_test_score  mean_test_score  std_test_score  \\\n",
       "0       -1593.807745       -1557.734227     -1574.528484       14.831410   \n",
       "1       -1593.807745       -1557.734227     -1574.528484       14.831410   \n",
       "2       -1593.807745       -1557.734227     -1574.528484       14.831410   \n",
       "3       -1537.555712       -1507.925110     -1521.409577       12.242182   \n",
       "4       -1527.387374       -1499.296698     -1510.923934       11.966987   \n",
       "5       -1527.737035       -1497.491297     -1511.186207       12.511817   \n",
       "6       -1535.409029       -1507.665016     -1518.451941       12.137703   \n",
       "7       -1522.661060       -1494.524269     -1506.198243       11.975517   \n",
       "8       -1519.571947       -1493.633937     -1504.633119       10.949450   \n",
       "\n",
       "   rank_test_score  \n",
       "0                7  \n",
       "1                7  \n",
       "2                7  \n",
       "3                6  \n",
       "4                3  \n",
       "5                4  \n",
       "6                5  \n",
       "7                2  \n",
       "8                1  "
      ]
     },
     "execution_count": 42,
     "metadata": {},
     "output_type": "execute_result"
    }
   ],
   "source": [
    "gbm_results = pd.DataFrame(gbm_gscv.cv_results_)\n",
    "gbm_results"
   ]
  },
  {
   "cell_type": "markdown",
   "metadata": {},
   "source": [
    "---"
   ]
  },
  {
   "cell_type": "markdown",
   "metadata": {},
   "source": [
    "**Выдели строку с лучшей оценкой:**"
   ]
  },
  {
   "cell_type": "code",
   "execution_count": 43,
   "metadata": {},
   "outputs": [
    {
     "data": {
      "text/html": [
       "<div>\n",
       "<style scoped>\n",
       "    .dataframe tbody tr th:only-of-type {\n",
       "        vertical-align: middle;\n",
       "    }\n",
       "\n",
       "    .dataframe tbody tr th {\n",
       "        vertical-align: top;\n",
       "    }\n",
       "\n",
       "    .dataframe thead th {\n",
       "        text-align: right;\n",
       "    }\n",
       "</style>\n",
       "<table border=\"1\" class=\"dataframe\">\n",
       "  <thead>\n",
       "    <tr style=\"text-align: right;\">\n",
       "      <th></th>\n",
       "      <th>mean_fit_time</th>\n",
       "      <th>std_fit_time</th>\n",
       "      <th>mean_score_time</th>\n",
       "      <th>std_score_time</th>\n",
       "      <th>param_max_depth</th>\n",
       "      <th>param_num_leaves</th>\n",
       "      <th>param_objective</th>\n",
       "      <th>params</th>\n",
       "      <th>split0_test_score</th>\n",
       "      <th>split1_test_score</th>\n",
       "      <th>split2_test_score</th>\n",
       "      <th>mean_test_score</th>\n",
       "      <th>std_test_score</th>\n",
       "      <th>rank_test_score</th>\n",
       "    </tr>\n",
       "  </thead>\n",
       "  <tbody>\n",
       "    <tr>\n",
       "      <th>8</th>\n",
       "      <td>4.127459</td>\n",
       "      <td>0.047435</td>\n",
       "      <td>1.531403</td>\n",
       "      <td>0.023612</td>\n",
       "      <td>20</td>\n",
       "      <td>400</td>\n",
       "      <td>regression</td>\n",
       "      <td>{'max_depth': 20, 'num_leaves': 400, 'objectiv...</td>\n",
       "      <td>-1500.693473</td>\n",
       "      <td>-1519.571947</td>\n",
       "      <td>-1493.633937</td>\n",
       "      <td>-1504.633119</td>\n",
       "      <td>10.94945</td>\n",
       "      <td>1</td>\n",
       "    </tr>\n",
       "  </tbody>\n",
       "</table>\n",
       "</div>"
      ],
      "text/plain": [
       "   mean_fit_time  std_fit_time  mean_score_time  std_score_time  \\\n",
       "8       4.127459      0.047435         1.531403        0.023612   \n",
       "\n",
       "  param_max_depth param_num_leaves param_objective  \\\n",
       "8              20              400      regression   \n",
       "\n",
       "                                              params  split0_test_score  \\\n",
       "8  {'max_depth': 20, 'num_leaves': 400, 'objectiv...       -1500.693473   \n",
       "\n",
       "   split1_test_score  split2_test_score  mean_test_score  std_test_score  \\\n",
       "8       -1519.571947       -1493.633937     -1504.633119        10.94945   \n",
       "\n",
       "   rank_test_score  \n",
       "8                1  "
      ]
     },
     "execution_count": 43,
     "metadata": {},
     "output_type": "execute_result"
    }
   ],
   "source": [
    "gbm_results[gbm_results['rank_test_score'] == 1]"
   ]
  },
  {
   "cell_type": "markdown",
   "metadata": {},
   "source": [
    "---"
   ]
  },
  {
   "cell_type": "markdown",
   "metadata": {},
   "source": [
    "**Сохраним время обучения, время предсказания, для модели с лучшей оценкой:**"
   ]
  },
  {
   "cell_type": "code",
   "execution_count": 44,
   "metadata": {},
   "outputs": [
    {
     "data": {
      "text/plain": [
       "4.127"
      ]
     },
     "execution_count": 44,
     "metadata": {},
     "output_type": "execute_result"
    }
   ],
   "source": [
    "gbm_fit_time = gbm_results[gbm_results['rank_test_score'] == 1]['mean_fit_time'].values[0].round(3)\n",
    "gbm_fit_time"
   ]
  },
  {
   "cell_type": "code",
   "execution_count": 45,
   "metadata": {},
   "outputs": [
    {
     "data": {
      "text/plain": [
       "1.531"
      ]
     },
     "execution_count": 45,
     "metadata": {},
     "output_type": "execute_result"
    }
   ],
   "source": [
    "gbm_predict_time = gbm_results[gbm_results['rank_test_score'] == 1]['mean_score_time'].values[0].round(3)\n",
    "gbm_predict_time"
   ]
  },
  {
   "cell_type": "markdown",
   "metadata": {},
   "source": [
    "**Сохраним лучшую оценку:**"
   ]
  },
  {
   "cell_type": "code",
   "execution_count": 46,
   "metadata": {},
   "outputs": [
    {
     "data": {
      "text/plain": [
       "1504.6331188044358"
      ]
     },
     "execution_count": 46,
     "metadata": {},
     "output_type": "execute_result"
    }
   ],
   "source": [
    "gbm_best_score = gbm_gscv.best_score_*-1\n",
    "gbm_best_score"
   ]
  },
  {
   "cell_type": "markdown",
   "metadata": {},
   "source": [
    "---"
   ]
  },
  {
   "cell_type": "markdown",
   "metadata": {},
   "source": [
    "---"
   ]
  },
  {
   "cell_type": "markdown",
   "metadata": {},
   "source": [
    "### RandomForestRegressor"
   ]
  },
  {
   "cell_type": "markdown",
   "metadata": {},
   "source": [
    "---"
   ]
  },
  {
   "cell_type": "markdown",
   "metadata": {},
   "source": [
    "**Создадим функцию для обучения модели случайного леса в регрессии:**"
   ]
  },
  {
   "cell_type": "code",
   "execution_count": 47,
   "metadata": {},
   "outputs": [],
   "source": [
    "def rfr_rmse(x_train, y_train):\n",
    "    model = RandomForestRegressor(random_state=RS)\n",
    "    \n",
    "    parameters = {'n_estimators': range (10, 31, 10),\n",
    "                 'max_depth': range (2, 7, 2),\n",
    "                 'min_samples_split': range (2, 7, 2)}\n",
    "\n",
    "    model_rfr = GridSearchCV(model, parameters, cv=3, scoring='neg_root_mean_squared_error', n_jobs=-1)\n",
    "    model_rfr.fit(x_train, y_train)\n",
    "    \n",
    "    return model_rfr"
   ]
  },
  {
   "cell_type": "markdown",
   "metadata": {},
   "source": [
    "---"
   ]
  },
  {
   "cell_type": "markdown",
   "metadata": {},
   "source": [
    "**Обучим модель случайного леса в регрессии:**"
   ]
  },
  {
   "cell_type": "code",
   "execution_count": 48,
   "metadata": {},
   "outputs": [
    {
     "name": "stdout",
     "output_type": "stream",
     "text": [
      "CPU times: user 5.76 s, sys: 176 ms, total: 5.93 s\n",
      "Wall time: 55.2 s\n"
     ]
    }
   ],
   "source": [
    "%%time\n",
    "model_rfr = rfr_rmse(features_train, target_train)"
   ]
  },
  {
   "cell_type": "markdown",
   "metadata": {},
   "source": [
    "---"
   ]
  },
  {
   "cell_type": "markdown",
   "metadata": {},
   "source": [
    "**Посмотрим на показатели в ходе GridSearchCV:**"
   ]
  },
  {
   "cell_type": "code",
   "execution_count": 49,
   "metadata": {
    "scrolled": true
   },
   "outputs": [
    {
     "data": {
      "text/html": [
       "<div>\n",
       "<style scoped>\n",
       "    .dataframe tbody tr th:only-of-type {\n",
       "        vertical-align: middle;\n",
       "    }\n",
       "\n",
       "    .dataframe tbody tr th {\n",
       "        vertical-align: top;\n",
       "    }\n",
       "\n",
       "    .dataframe thead th {\n",
       "        text-align: right;\n",
       "    }\n",
       "</style>\n",
       "<table border=\"1\" class=\"dataframe\">\n",
       "  <thead>\n",
       "    <tr style=\"text-align: right;\">\n",
       "      <th></th>\n",
       "      <th>mean_fit_time</th>\n",
       "      <th>std_fit_time</th>\n",
       "      <th>mean_score_time</th>\n",
       "      <th>std_score_time</th>\n",
       "      <th>param_max_depth</th>\n",
       "      <th>param_min_samples_split</th>\n",
       "      <th>param_n_estimators</th>\n",
       "      <th>params</th>\n",
       "      <th>split0_test_score</th>\n",
       "      <th>split1_test_score</th>\n",
       "      <th>split2_test_score</th>\n",
       "      <th>mean_test_score</th>\n",
       "      <th>std_test_score</th>\n",
       "      <th>rank_test_score</th>\n",
       "    </tr>\n",
       "  </thead>\n",
       "  <tbody>\n",
       "    <tr>\n",
       "      <th>0</th>\n",
       "      <td>1.337051</td>\n",
       "      <td>0.014625</td>\n",
       "      <td>0.035199</td>\n",
       "      <td>0.000802</td>\n",
       "      <td>2</td>\n",
       "      <td>2</td>\n",
       "      <td>10</td>\n",
       "      <td>{'max_depth': 2, 'min_samples_split': 2, 'n_es...</td>\n",
       "      <td>-3091.798441</td>\n",
       "      <td>-3083.358771</td>\n",
       "      <td>-3052.931315</td>\n",
       "      <td>-3076.029509</td>\n",
       "      <td>16.692352</td>\n",
       "      <td>25</td>\n",
       "    </tr>\n",
       "    <tr>\n",
       "      <th>1</th>\n",
       "      <td>2.522388</td>\n",
       "      <td>0.013158</td>\n",
       "      <td>0.056448</td>\n",
       "      <td>0.002318</td>\n",
       "      <td>2</td>\n",
       "      <td>2</td>\n",
       "      <td>20</td>\n",
       "      <td>{'max_depth': 2, 'min_samples_split': 2, 'n_es...</td>\n",
       "      <td>-3048.544442</td>\n",
       "      <td>-3083.346091</td>\n",
       "      <td>-3034.971213</td>\n",
       "      <td>-3055.620582</td>\n",
       "      <td>20.372956</td>\n",
       "      <td>19</td>\n",
       "    </tr>\n",
       "    <tr>\n",
       "      <th>2</th>\n",
       "      <td>3.717599</td>\n",
       "      <td>0.015469</td>\n",
       "      <td>0.088005</td>\n",
       "      <td>0.002807</td>\n",
       "      <td>2</td>\n",
       "      <td>2</td>\n",
       "      <td>30</td>\n",
       "      <td>{'max_depth': 2, 'min_samples_split': 2, 'n_es...</td>\n",
       "      <td>-3061.774834</td>\n",
       "      <td>-3083.233578</td>\n",
       "      <td>-3029.948833</td>\n",
       "      <td>-3058.319082</td>\n",
       "      <td>21.890221</td>\n",
       "      <td>22</td>\n",
       "    </tr>\n",
       "    <tr>\n",
       "      <th>3</th>\n",
       "      <td>1.290676</td>\n",
       "      <td>0.019877</td>\n",
       "      <td>0.034719</td>\n",
       "      <td>0.002464</td>\n",
       "      <td>2</td>\n",
       "      <td>4</td>\n",
       "      <td>10</td>\n",
       "      <td>{'max_depth': 2, 'min_samples_split': 4, 'n_es...</td>\n",
       "      <td>-3091.798441</td>\n",
       "      <td>-3083.358771</td>\n",
       "      <td>-3052.931315</td>\n",
       "      <td>-3076.029509</td>\n",
       "      <td>16.692352</td>\n",
       "      <td>25</td>\n",
       "    </tr>\n",
       "    <tr>\n",
       "      <th>4</th>\n",
       "      <td>2.543998</td>\n",
       "      <td>0.002138</td>\n",
       "      <td>0.059152</td>\n",
       "      <td>0.003992</td>\n",
       "      <td>2</td>\n",
       "      <td>4</td>\n",
       "      <td>20</td>\n",
       "      <td>{'max_depth': 2, 'min_samples_split': 4, 'n_es...</td>\n",
       "      <td>-3048.544442</td>\n",
       "      <td>-3083.346091</td>\n",
       "      <td>-3034.971213</td>\n",
       "      <td>-3055.620582</td>\n",
       "      <td>20.372956</td>\n",
       "      <td>19</td>\n",
       "    </tr>\n",
       "    <tr>\n",
       "      <th>5</th>\n",
       "      <td>3.811452</td>\n",
       "      <td>0.003893</td>\n",
       "      <td>0.082844</td>\n",
       "      <td>0.002895</td>\n",
       "      <td>2</td>\n",
       "      <td>4</td>\n",
       "      <td>30</td>\n",
       "      <td>{'max_depth': 2, 'min_samples_split': 4, 'n_es...</td>\n",
       "      <td>-3061.774834</td>\n",
       "      <td>-3083.233578</td>\n",
       "      <td>-3029.948833</td>\n",
       "      <td>-3058.319082</td>\n",
       "      <td>21.890221</td>\n",
       "      <td>22</td>\n",
       "    </tr>\n",
       "    <tr>\n",
       "      <th>6</th>\n",
       "      <td>1.327166</td>\n",
       "      <td>0.007676</td>\n",
       "      <td>0.038366</td>\n",
       "      <td>0.006902</td>\n",
       "      <td>2</td>\n",
       "      <td>6</td>\n",
       "      <td>10</td>\n",
       "      <td>{'max_depth': 2, 'min_samples_split': 6, 'n_es...</td>\n",
       "      <td>-3091.798441</td>\n",
       "      <td>-3083.358771</td>\n",
       "      <td>-3052.931315</td>\n",
       "      <td>-3076.029509</td>\n",
       "      <td>16.692352</td>\n",
       "      <td>25</td>\n",
       "    </tr>\n",
       "    <tr>\n",
       "      <th>7</th>\n",
       "      <td>2.565471</td>\n",
       "      <td>0.004008</td>\n",
       "      <td>0.061910</td>\n",
       "      <td>0.002539</td>\n",
       "      <td>2</td>\n",
       "      <td>6</td>\n",
       "      <td>20</td>\n",
       "      <td>{'max_depth': 2, 'min_samples_split': 6, 'n_es...</td>\n",
       "      <td>-3048.544442</td>\n",
       "      <td>-3083.346091</td>\n",
       "      <td>-3034.971213</td>\n",
       "      <td>-3055.620582</td>\n",
       "      <td>20.372956</td>\n",
       "      <td>19</td>\n",
       "    </tr>\n",
       "    <tr>\n",
       "      <th>8</th>\n",
       "      <td>3.842415</td>\n",
       "      <td>0.003273</td>\n",
       "      <td>0.085813</td>\n",
       "      <td>0.004657</td>\n",
       "      <td>2</td>\n",
       "      <td>6</td>\n",
       "      <td>30</td>\n",
       "      <td>{'max_depth': 2, 'min_samples_split': 6, 'n_es...</td>\n",
       "      <td>-3061.774834</td>\n",
       "      <td>-3083.233578</td>\n",
       "      <td>-3029.948833</td>\n",
       "      <td>-3058.319082</td>\n",
       "      <td>21.890221</td>\n",
       "      <td>22</td>\n",
       "    </tr>\n",
       "    <tr>\n",
       "      <th>9</th>\n",
       "      <td>2.479052</td>\n",
       "      <td>0.007572</td>\n",
       "      <td>0.049822</td>\n",
       "      <td>0.004900</td>\n",
       "      <td>4</td>\n",
       "      <td>2</td>\n",
       "      <td>10</td>\n",
       "      <td>{'max_depth': 4, 'min_samples_split': 2, 'n_es...</td>\n",
       "      <td>-2443.291512</td>\n",
       "      <td>-2457.285358</td>\n",
       "      <td>-2437.949229</td>\n",
       "      <td>-2446.175367</td>\n",
       "      <td>8.153075</td>\n",
       "      <td>16</td>\n",
       "    </tr>\n",
       "    <tr>\n",
       "      <th>10</th>\n",
       "      <td>4.904807</td>\n",
       "      <td>0.032396</td>\n",
       "      <td>0.083956</td>\n",
       "      <td>0.005096</td>\n",
       "      <td>4</td>\n",
       "      <td>2</td>\n",
       "      <td>20</td>\n",
       "      <td>{'max_depth': 4, 'min_samples_split': 2, 'n_es...</td>\n",
       "      <td>-2420.914302</td>\n",
       "      <td>-2449.833853</td>\n",
       "      <td>-2423.846297</td>\n",
       "      <td>-2431.531484</td>\n",
       "      <td>12.996966</td>\n",
       "      <td>13</td>\n",
       "    </tr>\n",
       "    <tr>\n",
       "      <th>11</th>\n",
       "      <td>7.108317</td>\n",
       "      <td>0.030133</td>\n",
       "      <td>0.112902</td>\n",
       "      <td>0.002598</td>\n",
       "      <td>4</td>\n",
       "      <td>2</td>\n",
       "      <td>30</td>\n",
       "      <td>{'max_depth': 4, 'min_samples_split': 2, 'n_es...</td>\n",
       "      <td>-2424.063340</td>\n",
       "      <td>-2441.446018</td>\n",
       "      <td>-2416.906427</td>\n",
       "      <td>-2427.471928</td>\n",
       "      <td>10.304101</td>\n",
       "      <td>10</td>\n",
       "    </tr>\n",
       "    <tr>\n",
       "      <th>12</th>\n",
       "      <td>2.497381</td>\n",
       "      <td>0.068706</td>\n",
       "      <td>0.050319</td>\n",
       "      <td>0.009717</td>\n",
       "      <td>4</td>\n",
       "      <td>4</td>\n",
       "      <td>10</td>\n",
       "      <td>{'max_depth': 4, 'min_samples_split': 4, 'n_es...</td>\n",
       "      <td>-2443.291512</td>\n",
       "      <td>-2457.285358</td>\n",
       "      <td>-2437.949229</td>\n",
       "      <td>-2446.175367</td>\n",
       "      <td>8.153075</td>\n",
       "      <td>16</td>\n",
       "    </tr>\n",
       "    <tr>\n",
       "      <th>13</th>\n",
       "      <td>4.660169</td>\n",
       "      <td>0.005258</td>\n",
       "      <td>0.087573</td>\n",
       "      <td>0.009465</td>\n",
       "      <td>4</td>\n",
       "      <td>4</td>\n",
       "      <td>20</td>\n",
       "      <td>{'max_depth': 4, 'min_samples_split': 4, 'n_es...</td>\n",
       "      <td>-2420.914302</td>\n",
       "      <td>-2449.833853</td>\n",
       "      <td>-2423.846297</td>\n",
       "      <td>-2431.531484</td>\n",
       "      <td>12.996966</td>\n",
       "      <td>13</td>\n",
       "    </tr>\n",
       "    <tr>\n",
       "      <th>14</th>\n",
       "      <td>7.325692</td>\n",
       "      <td>0.078160</td>\n",
       "      <td>0.113535</td>\n",
       "      <td>0.001784</td>\n",
       "      <td>4</td>\n",
       "      <td>4</td>\n",
       "      <td>30</td>\n",
       "      <td>{'max_depth': 4, 'min_samples_split': 4, 'n_es...</td>\n",
       "      <td>-2424.063340</td>\n",
       "      <td>-2441.446018</td>\n",
       "      <td>-2416.906427</td>\n",
       "      <td>-2427.471928</td>\n",
       "      <td>10.304101</td>\n",
       "      <td>10</td>\n",
       "    </tr>\n",
       "    <tr>\n",
       "      <th>15</th>\n",
       "      <td>2.637550</td>\n",
       "      <td>0.012797</td>\n",
       "      <td>0.052225</td>\n",
       "      <td>0.007790</td>\n",
       "      <td>4</td>\n",
       "      <td>6</td>\n",
       "      <td>10</td>\n",
       "      <td>{'max_depth': 4, 'min_samples_split': 6, 'n_es...</td>\n",
       "      <td>-2443.291512</td>\n",
       "      <td>-2457.285358</td>\n",
       "      <td>-2437.949229</td>\n",
       "      <td>-2446.175367</td>\n",
       "      <td>8.153075</td>\n",
       "      <td>16</td>\n",
       "    </tr>\n",
       "    <tr>\n",
       "      <th>16</th>\n",
       "      <td>5.006048</td>\n",
       "      <td>0.175678</td>\n",
       "      <td>0.078910</td>\n",
       "      <td>0.003056</td>\n",
       "      <td>4</td>\n",
       "      <td>6</td>\n",
       "      <td>20</td>\n",
       "      <td>{'max_depth': 4, 'min_samples_split': 6, 'n_es...</td>\n",
       "      <td>-2420.914302</td>\n",
       "      <td>-2449.833853</td>\n",
       "      <td>-2423.846297</td>\n",
       "      <td>-2431.531484</td>\n",
       "      <td>12.996966</td>\n",
       "      <td>13</td>\n",
       "    </tr>\n",
       "    <tr>\n",
       "      <th>17</th>\n",
       "      <td>7.151197</td>\n",
       "      <td>0.023244</td>\n",
       "      <td>0.123159</td>\n",
       "      <td>0.013171</td>\n",
       "      <td>4</td>\n",
       "      <td>6</td>\n",
       "      <td>30</td>\n",
       "      <td>{'max_depth': 4, 'min_samples_split': 6, 'n_es...</td>\n",
       "      <td>-2424.063340</td>\n",
       "      <td>-2441.446018</td>\n",
       "      <td>-2416.906427</td>\n",
       "      <td>-2427.471928</td>\n",
       "      <td>10.304101</td>\n",
       "      <td>10</td>\n",
       "    </tr>\n",
       "    <tr>\n",
       "      <th>18</th>\n",
       "      <td>3.348152</td>\n",
       "      <td>0.021355</td>\n",
       "      <td>0.060875</td>\n",
       "      <td>0.002732</td>\n",
       "      <td>6</td>\n",
       "      <td>2</td>\n",
       "      <td>10</td>\n",
       "      <td>{'max_depth': 6, 'min_samples_split': 2, 'n_es...</td>\n",
       "      <td>-2144.946157</td>\n",
       "      <td>-2168.732131</td>\n",
       "      <td>-2156.567958</td>\n",
       "      <td>-2156.748749</td>\n",
       "      <td>9.711425</td>\n",
       "      <td>7</td>\n",
       "    </tr>\n",
       "    <tr>\n",
       "      <th>19</th>\n",
       "      <td>6.615522</td>\n",
       "      <td>0.030588</td>\n",
       "      <td>0.113563</td>\n",
       "      <td>0.010175</td>\n",
       "      <td>6</td>\n",
       "      <td>2</td>\n",
       "      <td>20</td>\n",
       "      <td>{'max_depth': 6, 'min_samples_split': 2, 'n_es...</td>\n",
       "      <td>-2129.868972</td>\n",
       "      <td>-2160.697071</td>\n",
       "      <td>-2146.882197</td>\n",
       "      <td>-2145.816080</td>\n",
       "      <td>12.608076</td>\n",
       "      <td>4</td>\n",
       "    </tr>\n",
       "    <tr>\n",
       "      <th>20</th>\n",
       "      <td>10.082864</td>\n",
       "      <td>0.005054</td>\n",
       "      <td>0.161292</td>\n",
       "      <td>0.007951</td>\n",
       "      <td>6</td>\n",
       "      <td>2</td>\n",
       "      <td>30</td>\n",
       "      <td>{'max_depth': 6, 'min_samples_split': 2, 'n_es...</td>\n",
       "      <td>-2131.464647</td>\n",
       "      <td>-2157.096372</td>\n",
       "      <td>-2139.854398</td>\n",
       "      <td>-2142.805139</td>\n",
       "      <td>10.670098</td>\n",
       "      <td>1</td>\n",
       "    </tr>\n",
       "    <tr>\n",
       "      <th>21</th>\n",
       "      <td>3.453371</td>\n",
       "      <td>0.092353</td>\n",
       "      <td>0.065172</td>\n",
       "      <td>0.004703</td>\n",
       "      <td>6</td>\n",
       "      <td>4</td>\n",
       "      <td>10</td>\n",
       "      <td>{'max_depth': 6, 'min_samples_split': 4, 'n_es...</td>\n",
       "      <td>-2144.946157</td>\n",
       "      <td>-2168.732131</td>\n",
       "      <td>-2156.567958</td>\n",
       "      <td>-2156.748749</td>\n",
       "      <td>9.711425</td>\n",
       "      <td>7</td>\n",
       "    </tr>\n",
       "    <tr>\n",
       "      <th>22</th>\n",
       "      <td>6.812310</td>\n",
       "      <td>0.093161</td>\n",
       "      <td>0.118971</td>\n",
       "      <td>0.005670</td>\n",
       "      <td>6</td>\n",
       "      <td>4</td>\n",
       "      <td>20</td>\n",
       "      <td>{'max_depth': 6, 'min_samples_split': 4, 'n_es...</td>\n",
       "      <td>-2129.868972</td>\n",
       "      <td>-2160.697071</td>\n",
       "      <td>-2146.882197</td>\n",
       "      <td>-2145.816080</td>\n",
       "      <td>12.608076</td>\n",
       "      <td>4</td>\n",
       "    </tr>\n",
       "    <tr>\n",
       "      <th>23</th>\n",
       "      <td>9.957133</td>\n",
       "      <td>0.081199</td>\n",
       "      <td>0.161945</td>\n",
       "      <td>0.028174</td>\n",
       "      <td>6</td>\n",
       "      <td>4</td>\n",
       "      <td>30</td>\n",
       "      <td>{'max_depth': 6, 'min_samples_split': 4, 'n_es...</td>\n",
       "      <td>-2131.464647</td>\n",
       "      <td>-2157.096372</td>\n",
       "      <td>-2139.854398</td>\n",
       "      <td>-2142.805139</td>\n",
       "      <td>10.670098</td>\n",
       "      <td>1</td>\n",
       "    </tr>\n",
       "    <tr>\n",
       "      <th>24</th>\n",
       "      <td>3.368749</td>\n",
       "      <td>0.054945</td>\n",
       "      <td>0.062471</td>\n",
       "      <td>0.002987</td>\n",
       "      <td>6</td>\n",
       "      <td>6</td>\n",
       "      <td>10</td>\n",
       "      <td>{'max_depth': 6, 'min_samples_split': 6, 'n_es...</td>\n",
       "      <td>-2144.946157</td>\n",
       "      <td>-2168.732131</td>\n",
       "      <td>-2156.567958</td>\n",
       "      <td>-2156.748749</td>\n",
       "      <td>9.711425</td>\n",
       "      <td>7</td>\n",
       "    </tr>\n",
       "    <tr>\n",
       "      <th>25</th>\n",
       "      <td>6.697925</td>\n",
       "      <td>0.136378</td>\n",
       "      <td>0.091135</td>\n",
       "      <td>0.015328</td>\n",
       "      <td>6</td>\n",
       "      <td>6</td>\n",
       "      <td>20</td>\n",
       "      <td>{'max_depth': 6, 'min_samples_split': 6, 'n_es...</td>\n",
       "      <td>-2129.868972</td>\n",
       "      <td>-2160.697071</td>\n",
       "      <td>-2146.882197</td>\n",
       "      <td>-2145.816080</td>\n",
       "      <td>12.608076</td>\n",
       "      <td>4</td>\n",
       "    </tr>\n",
       "    <tr>\n",
       "      <th>26</th>\n",
       "      <td>6.573243</td>\n",
       "      <td>0.642681</td>\n",
       "      <td>0.090538</td>\n",
       "      <td>0.004536</td>\n",
       "      <td>6</td>\n",
       "      <td>6</td>\n",
       "      <td>30</td>\n",
       "      <td>{'max_depth': 6, 'min_samples_split': 6, 'n_es...</td>\n",
       "      <td>-2131.464647</td>\n",
       "      <td>-2157.096372</td>\n",
       "      <td>-2139.854398</td>\n",
       "      <td>-2142.805139</td>\n",
       "      <td>10.670098</td>\n",
       "      <td>1</td>\n",
       "    </tr>\n",
       "  </tbody>\n",
       "</table>\n",
       "</div>"
      ],
      "text/plain": [
       "    mean_fit_time  std_fit_time  mean_score_time  std_score_time  \\\n",
       "0        1.337051      0.014625         0.035199        0.000802   \n",
       "1        2.522388      0.013158         0.056448        0.002318   \n",
       "2        3.717599      0.015469         0.088005        0.002807   \n",
       "3        1.290676      0.019877         0.034719        0.002464   \n",
       "4        2.543998      0.002138         0.059152        0.003992   \n",
       "5        3.811452      0.003893         0.082844        0.002895   \n",
       "6        1.327166      0.007676         0.038366        0.006902   \n",
       "7        2.565471      0.004008         0.061910        0.002539   \n",
       "8        3.842415      0.003273         0.085813        0.004657   \n",
       "9        2.479052      0.007572         0.049822        0.004900   \n",
       "10       4.904807      0.032396         0.083956        0.005096   \n",
       "11       7.108317      0.030133         0.112902        0.002598   \n",
       "12       2.497381      0.068706         0.050319        0.009717   \n",
       "13       4.660169      0.005258         0.087573        0.009465   \n",
       "14       7.325692      0.078160         0.113535        0.001784   \n",
       "15       2.637550      0.012797         0.052225        0.007790   \n",
       "16       5.006048      0.175678         0.078910        0.003056   \n",
       "17       7.151197      0.023244         0.123159        0.013171   \n",
       "18       3.348152      0.021355         0.060875        0.002732   \n",
       "19       6.615522      0.030588         0.113563        0.010175   \n",
       "20      10.082864      0.005054         0.161292        0.007951   \n",
       "21       3.453371      0.092353         0.065172        0.004703   \n",
       "22       6.812310      0.093161         0.118971        0.005670   \n",
       "23       9.957133      0.081199         0.161945        0.028174   \n",
       "24       3.368749      0.054945         0.062471        0.002987   \n",
       "25       6.697925      0.136378         0.091135        0.015328   \n",
       "26       6.573243      0.642681         0.090538        0.004536   \n",
       "\n",
       "   param_max_depth param_min_samples_split param_n_estimators  \\\n",
       "0                2                       2                 10   \n",
       "1                2                       2                 20   \n",
       "2                2                       2                 30   \n",
       "3                2                       4                 10   \n",
       "4                2                       4                 20   \n",
       "5                2                       4                 30   \n",
       "6                2                       6                 10   \n",
       "7                2                       6                 20   \n",
       "8                2                       6                 30   \n",
       "9                4                       2                 10   \n",
       "10               4                       2                 20   \n",
       "11               4                       2                 30   \n",
       "12               4                       4                 10   \n",
       "13               4                       4                 20   \n",
       "14               4                       4                 30   \n",
       "15               4                       6                 10   \n",
       "16               4                       6                 20   \n",
       "17               4                       6                 30   \n",
       "18               6                       2                 10   \n",
       "19               6                       2                 20   \n",
       "20               6                       2                 30   \n",
       "21               6                       4                 10   \n",
       "22               6                       4                 20   \n",
       "23               6                       4                 30   \n",
       "24               6                       6                 10   \n",
       "25               6                       6                 20   \n",
       "26               6                       6                 30   \n",
       "\n",
       "                                               params  split0_test_score  \\\n",
       "0   {'max_depth': 2, 'min_samples_split': 2, 'n_es...       -3091.798441   \n",
       "1   {'max_depth': 2, 'min_samples_split': 2, 'n_es...       -3048.544442   \n",
       "2   {'max_depth': 2, 'min_samples_split': 2, 'n_es...       -3061.774834   \n",
       "3   {'max_depth': 2, 'min_samples_split': 4, 'n_es...       -3091.798441   \n",
       "4   {'max_depth': 2, 'min_samples_split': 4, 'n_es...       -3048.544442   \n",
       "5   {'max_depth': 2, 'min_samples_split': 4, 'n_es...       -3061.774834   \n",
       "6   {'max_depth': 2, 'min_samples_split': 6, 'n_es...       -3091.798441   \n",
       "7   {'max_depth': 2, 'min_samples_split': 6, 'n_es...       -3048.544442   \n",
       "8   {'max_depth': 2, 'min_samples_split': 6, 'n_es...       -3061.774834   \n",
       "9   {'max_depth': 4, 'min_samples_split': 2, 'n_es...       -2443.291512   \n",
       "10  {'max_depth': 4, 'min_samples_split': 2, 'n_es...       -2420.914302   \n",
       "11  {'max_depth': 4, 'min_samples_split': 2, 'n_es...       -2424.063340   \n",
       "12  {'max_depth': 4, 'min_samples_split': 4, 'n_es...       -2443.291512   \n",
       "13  {'max_depth': 4, 'min_samples_split': 4, 'n_es...       -2420.914302   \n",
       "14  {'max_depth': 4, 'min_samples_split': 4, 'n_es...       -2424.063340   \n",
       "15  {'max_depth': 4, 'min_samples_split': 6, 'n_es...       -2443.291512   \n",
       "16  {'max_depth': 4, 'min_samples_split': 6, 'n_es...       -2420.914302   \n",
       "17  {'max_depth': 4, 'min_samples_split': 6, 'n_es...       -2424.063340   \n",
       "18  {'max_depth': 6, 'min_samples_split': 2, 'n_es...       -2144.946157   \n",
       "19  {'max_depth': 6, 'min_samples_split': 2, 'n_es...       -2129.868972   \n",
       "20  {'max_depth': 6, 'min_samples_split': 2, 'n_es...       -2131.464647   \n",
       "21  {'max_depth': 6, 'min_samples_split': 4, 'n_es...       -2144.946157   \n",
       "22  {'max_depth': 6, 'min_samples_split': 4, 'n_es...       -2129.868972   \n",
       "23  {'max_depth': 6, 'min_samples_split': 4, 'n_es...       -2131.464647   \n",
       "24  {'max_depth': 6, 'min_samples_split': 6, 'n_es...       -2144.946157   \n",
       "25  {'max_depth': 6, 'min_samples_split': 6, 'n_es...       -2129.868972   \n",
       "26  {'max_depth': 6, 'min_samples_split': 6, 'n_es...       -2131.464647   \n",
       "\n",
       "    split1_test_score  split2_test_score  mean_test_score  std_test_score  \\\n",
       "0        -3083.358771       -3052.931315     -3076.029509       16.692352   \n",
       "1        -3083.346091       -3034.971213     -3055.620582       20.372956   \n",
       "2        -3083.233578       -3029.948833     -3058.319082       21.890221   \n",
       "3        -3083.358771       -3052.931315     -3076.029509       16.692352   \n",
       "4        -3083.346091       -3034.971213     -3055.620582       20.372956   \n",
       "5        -3083.233578       -3029.948833     -3058.319082       21.890221   \n",
       "6        -3083.358771       -3052.931315     -3076.029509       16.692352   \n",
       "7        -3083.346091       -3034.971213     -3055.620582       20.372956   \n",
       "8        -3083.233578       -3029.948833     -3058.319082       21.890221   \n",
       "9        -2457.285358       -2437.949229     -2446.175367        8.153075   \n",
       "10       -2449.833853       -2423.846297     -2431.531484       12.996966   \n",
       "11       -2441.446018       -2416.906427     -2427.471928       10.304101   \n",
       "12       -2457.285358       -2437.949229     -2446.175367        8.153075   \n",
       "13       -2449.833853       -2423.846297     -2431.531484       12.996966   \n",
       "14       -2441.446018       -2416.906427     -2427.471928       10.304101   \n",
       "15       -2457.285358       -2437.949229     -2446.175367        8.153075   \n",
       "16       -2449.833853       -2423.846297     -2431.531484       12.996966   \n",
       "17       -2441.446018       -2416.906427     -2427.471928       10.304101   \n",
       "18       -2168.732131       -2156.567958     -2156.748749        9.711425   \n",
       "19       -2160.697071       -2146.882197     -2145.816080       12.608076   \n",
       "20       -2157.096372       -2139.854398     -2142.805139       10.670098   \n",
       "21       -2168.732131       -2156.567958     -2156.748749        9.711425   \n",
       "22       -2160.697071       -2146.882197     -2145.816080       12.608076   \n",
       "23       -2157.096372       -2139.854398     -2142.805139       10.670098   \n",
       "24       -2168.732131       -2156.567958     -2156.748749        9.711425   \n",
       "25       -2160.697071       -2146.882197     -2145.816080       12.608076   \n",
       "26       -2157.096372       -2139.854398     -2142.805139       10.670098   \n",
       "\n",
       "    rank_test_score  \n",
       "0                25  \n",
       "1                19  \n",
       "2                22  \n",
       "3                25  \n",
       "4                19  \n",
       "5                22  \n",
       "6                25  \n",
       "7                19  \n",
       "8                22  \n",
       "9                16  \n",
       "10               13  \n",
       "11               10  \n",
       "12               16  \n",
       "13               13  \n",
       "14               10  \n",
       "15               16  \n",
       "16               13  \n",
       "17               10  \n",
       "18                7  \n",
       "19                4  \n",
       "20                1  \n",
       "21                7  \n",
       "22                4  \n",
       "23                1  \n",
       "24                7  \n",
       "25                4  \n",
       "26                1  "
      ]
     },
     "execution_count": 49,
     "metadata": {},
     "output_type": "execute_result"
    }
   ],
   "source": [
    "rfr_results = pd.DataFrame(model_rfr.cv_results_)\n",
    "rfr_results"
   ]
  },
  {
   "cell_type": "markdown",
   "metadata": {},
   "source": [
    "---"
   ]
  },
  {
   "cell_type": "markdown",
   "metadata": {},
   "source": [
    "**Выделим строку с лучшей оценкой:**"
   ]
  },
  {
   "cell_type": "code",
   "execution_count": 50,
   "metadata": {},
   "outputs": [
    {
     "data": {
      "text/html": [
       "<div>\n",
       "<style scoped>\n",
       "    .dataframe tbody tr th:only-of-type {\n",
       "        vertical-align: middle;\n",
       "    }\n",
       "\n",
       "    .dataframe tbody tr th {\n",
       "        vertical-align: top;\n",
       "    }\n",
       "\n",
       "    .dataframe thead th {\n",
       "        text-align: right;\n",
       "    }\n",
       "</style>\n",
       "<table border=\"1\" class=\"dataframe\">\n",
       "  <thead>\n",
       "    <tr style=\"text-align: right;\">\n",
       "      <th></th>\n",
       "      <th>mean_fit_time</th>\n",
       "      <th>std_fit_time</th>\n",
       "      <th>mean_score_time</th>\n",
       "      <th>std_score_time</th>\n",
       "      <th>param_max_depth</th>\n",
       "      <th>param_min_samples_split</th>\n",
       "      <th>param_n_estimators</th>\n",
       "      <th>params</th>\n",
       "      <th>split0_test_score</th>\n",
       "      <th>split1_test_score</th>\n",
       "      <th>split2_test_score</th>\n",
       "      <th>mean_test_score</th>\n",
       "      <th>std_test_score</th>\n",
       "      <th>rank_test_score</th>\n",
       "    </tr>\n",
       "  </thead>\n",
       "  <tbody>\n",
       "    <tr>\n",
       "      <th>20</th>\n",
       "      <td>10.082864</td>\n",
       "      <td>0.005054</td>\n",
       "      <td>0.161292</td>\n",
       "      <td>0.007951</td>\n",
       "      <td>6</td>\n",
       "      <td>2</td>\n",
       "      <td>30</td>\n",
       "      <td>{'max_depth': 6, 'min_samples_split': 2, 'n_es...</td>\n",
       "      <td>-2131.464647</td>\n",
       "      <td>-2157.096372</td>\n",
       "      <td>-2139.854398</td>\n",
       "      <td>-2142.805139</td>\n",
       "      <td>10.670098</td>\n",
       "      <td>1</td>\n",
       "    </tr>\n",
       "    <tr>\n",
       "      <th>23</th>\n",
       "      <td>9.957133</td>\n",
       "      <td>0.081199</td>\n",
       "      <td>0.161945</td>\n",
       "      <td>0.028174</td>\n",
       "      <td>6</td>\n",
       "      <td>4</td>\n",
       "      <td>30</td>\n",
       "      <td>{'max_depth': 6, 'min_samples_split': 4, 'n_es...</td>\n",
       "      <td>-2131.464647</td>\n",
       "      <td>-2157.096372</td>\n",
       "      <td>-2139.854398</td>\n",
       "      <td>-2142.805139</td>\n",
       "      <td>10.670098</td>\n",
       "      <td>1</td>\n",
       "    </tr>\n",
       "    <tr>\n",
       "      <th>26</th>\n",
       "      <td>6.573243</td>\n",
       "      <td>0.642681</td>\n",
       "      <td>0.090538</td>\n",
       "      <td>0.004536</td>\n",
       "      <td>6</td>\n",
       "      <td>6</td>\n",
       "      <td>30</td>\n",
       "      <td>{'max_depth': 6, 'min_samples_split': 6, 'n_es...</td>\n",
       "      <td>-2131.464647</td>\n",
       "      <td>-2157.096372</td>\n",
       "      <td>-2139.854398</td>\n",
       "      <td>-2142.805139</td>\n",
       "      <td>10.670098</td>\n",
       "      <td>1</td>\n",
       "    </tr>\n",
       "  </tbody>\n",
       "</table>\n",
       "</div>"
      ],
      "text/plain": [
       "    mean_fit_time  std_fit_time  mean_score_time  std_score_time  \\\n",
       "20      10.082864      0.005054         0.161292        0.007951   \n",
       "23       9.957133      0.081199         0.161945        0.028174   \n",
       "26       6.573243      0.642681         0.090538        0.004536   \n",
       "\n",
       "   param_max_depth param_min_samples_split param_n_estimators  \\\n",
       "20               6                       2                 30   \n",
       "23               6                       4                 30   \n",
       "26               6                       6                 30   \n",
       "\n",
       "                                               params  split0_test_score  \\\n",
       "20  {'max_depth': 6, 'min_samples_split': 2, 'n_es...       -2131.464647   \n",
       "23  {'max_depth': 6, 'min_samples_split': 4, 'n_es...       -2131.464647   \n",
       "26  {'max_depth': 6, 'min_samples_split': 6, 'n_es...       -2131.464647   \n",
       "\n",
       "    split1_test_score  split2_test_score  mean_test_score  std_test_score  \\\n",
       "20       -2157.096372       -2139.854398     -2142.805139       10.670098   \n",
       "23       -2157.096372       -2139.854398     -2142.805139       10.670098   \n",
       "26       -2157.096372       -2139.854398     -2142.805139       10.670098   \n",
       "\n",
       "    rank_test_score  \n",
       "20                1  \n",
       "23                1  \n",
       "26                1  "
      ]
     },
     "execution_count": 50,
     "metadata": {},
     "output_type": "execute_result"
    }
   ],
   "source": [
    "rfr_results[rfr_results['rank_test_score'] == 1]"
   ]
  },
  {
   "cell_type": "markdown",
   "metadata": {},
   "source": [
    "---"
   ]
  },
  {
   "cell_type": "markdown",
   "metadata": {},
   "source": [
    "**Сохраним время обучения, время предсказания, для модели с лучшей оценкой:**"
   ]
  },
  {
   "cell_type": "code",
   "execution_count": 51,
   "metadata": {},
   "outputs": [
    {
     "data": {
      "text/plain": [
       "10.083"
      ]
     },
     "execution_count": 51,
     "metadata": {},
     "output_type": "execute_result"
    }
   ],
   "source": [
    "rfr_fit_time = rfr_results[rfr_results['rank_test_score'] == 1]['mean_fit_time'].values[0].round(3)\n",
    "rfr_fit_time"
   ]
  },
  {
   "cell_type": "code",
   "execution_count": 52,
   "metadata": {},
   "outputs": [
    {
     "data": {
      "text/plain": [
       "0.161"
      ]
     },
     "execution_count": 52,
     "metadata": {},
     "output_type": "execute_result"
    }
   ],
   "source": [
    "rfr_predict_time = rfr_results[rfr_results['rank_test_score'] == 1]['mean_score_time'].values[0].round(3)\n",
    "rfr_predict_time"
   ]
  },
  {
   "cell_type": "markdown",
   "metadata": {},
   "source": [
    "---"
   ]
  },
  {
   "cell_type": "markdown",
   "metadata": {},
   "source": [
    "**Сохраним лучшую оценку:**"
   ]
  },
  {
   "cell_type": "code",
   "execution_count": 53,
   "metadata": {},
   "outputs": [
    {
     "data": {
      "text/plain": [
       "2142.8051385617214"
      ]
     },
     "execution_count": 53,
     "metadata": {},
     "output_type": "execute_result"
    }
   ],
   "source": [
    "rfr_best_score = model_rfr.best_score_*-1\n",
    "rfr_best_score"
   ]
  },
  {
   "cell_type": "markdown",
   "metadata": {},
   "source": [
    "---"
   ]
  },
  {
   "cell_type": "markdown",
   "metadata": {},
   "source": [
    "---"
   ]
  },
  {
   "cell_type": "markdown",
   "metadata": {},
   "source": [
    "### CatBoostRegressor"
   ]
  },
  {
   "cell_type": "markdown",
   "metadata": {},
   "source": [
    "---"
   ]
  },
  {
   "cell_type": "markdown",
   "metadata": {},
   "source": [
    "**Модель CatBoost может работать с категоиальными признаками без преобразования, сделаем для нее отдельные выборки:**"
   ]
  },
  {
   "cell_type": "code",
   "execution_count": 54,
   "metadata": {},
   "outputs": [],
   "source": [
    "features_train_c, features_test_c, target_train_c, target_test_c = train_test_split(\n",
    "features, target, test_size=0.25, random_state=RS)"
   ]
  },
  {
   "cell_type": "markdown",
   "metadata": {},
   "source": [
    "---"
   ]
  },
  {
   "cell_type": "markdown",
   "metadata": {},
   "source": [
    "**Применим модель CatBoost, создадим функцию для обучения:**"
   ]
  },
  {
   "cell_type": "code",
   "execution_count": 55,
   "metadata": {
    "scrolled": true
   },
   "outputs": [
    {
     "name": "stdout",
     "output_type": "stream",
     "text": [
      "CPU times: user 5 µs, sys: 1 µs, total: 6 µs\n",
      "Wall time: 7.87 µs\n"
     ]
    }
   ],
   "source": [
    "%%time\n",
    "def catboost(x_train, y_train):\n",
    "    cat = CatBoostRegressor(random_state=RS,\n",
    "                            loss_function='RMSE',\n",
    "                            early_stopping_rounds=5,)\n",
    "    \n",
    "    parameters = {\n",
    "        'learning_rate': [0.03, 0.09, 0.25],\n",
    "        'depth': [5, 10, 20],\n",
    "        'iterations': [300]\n",
    "    }\n",
    "    cat_gscv = GridSearchCV(cat, parameters, scoring='neg_root_mean_squared_error', n_jobs=-1, cv=3)\n",
    "    cat_gscv.fit(x_train, y_train, cat_features=categorical, verbose=100)\n",
    "\n",
    "    return cat_gscv"
   ]
  },
  {
   "cell_type": "markdown",
   "metadata": {},
   "source": [
    "---"
   ]
  },
  {
   "cell_type": "markdown",
   "metadata": {},
   "source": [
    "**Обучим модель:**"
   ]
  },
  {
   "cell_type": "code",
   "execution_count": 56,
   "metadata": {},
   "outputs": [
    {
     "name": "stdout",
     "output_type": "stream",
     "text": [
      "0:\tlearn: 4322.5601272\ttotal: 402ms\tremaining: 2m\n",
      "100:\tlearn: 1707.0261926\ttotal: 25.3s\tremaining: 49.9s\n",
      "200:\tlearn: 1626.0732384\ttotal: 50.1s\tremaining: 24.7s\n",
      "299:\tlearn: 1586.8921689\ttotal: 1m 13s\tremaining: 0us\n",
      "0:\tlearn: 4509.4918514\ttotal: 246ms\tremaining: 1m 13s\n",
      "100:\tlearn: 1930.5479051\ttotal: 25s\tremaining: 49.3s\n",
      "200:\tlearn: 1762.4310287\ttotal: 48.5s\tremaining: 23.9s\n",
      "299:\tlearn: 1711.4924231\ttotal: 1m 12s\tremaining: 0us\n",
      "0:\tlearn: 3864.1625438\ttotal: 250ms\tremaining: 1m 14s\n",
      "100:\tlearn: 1606.1706908\ttotal: 27.1s\tremaining: 53.3s\n",
      "200:\tlearn: 1546.9491118\ttotal: 57.5s\tremaining: 28.3s\n",
      "299:\tlearn: 1516.9070801\ttotal: 1m 29s\tremaining: 0us\n",
      "0:\tlearn: 4503.1301159\ttotal: 295ms\tremaining: 1m 28s\n",
      "100:\tlearn: 1918.9475046\ttotal: 25.3s\tremaining: 49.9s\n",
      "200:\tlearn: 1756.0925935\ttotal: 48.8s\tremaining: 24s\n",
      "299:\tlearn: 1704.8200434\ttotal: 1m 12s\tremaining: 0us\n",
      "0:\tlearn: 4497.1801146\ttotal: 432ms\tremaining: 2m 9s\n",
      "100:\tlearn: 1730.2809106\ttotal: 59s\tremaining: 1m 56s\n",
      "200:\tlearn: 1599.8004465\ttotal: 1m 59s\tremaining: 58.8s\n",
      "299:\tlearn: 1544.0819797\ttotal: 3m 4s\tremaining: 0us\n",
      "0:\tlearn: 4506.9225771\ttotal: 178ms\tremaining: 53.3s\n",
      "100:\tlearn: 1931.8084238\ttotal: 24.9s\tremaining: 49s\n",
      "200:\tlearn: 1764.2639732\ttotal: 49.1s\tremaining: 24.2s\n",
      "299:\tlearn: 1711.7337005\ttotal: 1m 12s\tremaining: 0us\n",
      "0:\tlearn: 4497.5003005\ttotal: 393ms\tremaining: 1m 57s\n",
      "100:\tlearn: 1730.9809495\ttotal: 59.1s\tremaining: 1m 56s\n",
      "200:\tlearn: 1601.2019791\ttotal: 1m 59s\tremaining: 59s\n",
      "299:\tlearn: 1546.9538819\ttotal: 3m 5s\tremaining: 0us\n",
      "0:\tlearn: 4328.3507753\ttotal: 376ms\tremaining: 1m 52s\n",
      "100:\tlearn: 1714.1963161\ttotal: 25s\tremaining: 49.2s\n",
      "200:\tlearn: 1635.0216194\ttotal: 49.5s\tremaining: 24.4s\n",
      "299:\tlearn: 1600.8677590\ttotal: 1m 13s\tremaining: 0us\n",
      "0:\tlearn: 4489.5556574\ttotal: 440ms\tremaining: 2m 11s\n",
      "100:\tlearn: 1722.8349040\ttotal: 59s\tremaining: 1m 56s\n",
      "200:\tlearn: 1589.4420611\ttotal: 2m\tremaining: 59.3s\n",
      "299:\tlearn: 1539.5051423\ttotal: 3m 6s\tremaining: 0us\n",
      "0:\tlearn: 3868.4383423\ttotal: 411ms\tremaining: 2m 3s\n",
      "100:\tlearn: 1613.5772293\ttotal: 25.5s\tremaining: 50.3s\n",
      "200:\tlearn: 1556.4686900\ttotal: 49.8s\tremaining: 24.5s\n",
      "299:\tlearn: 1523.9481786\ttotal: 1m 13s\tremaining: 0us\n",
      "0:\tlearn: 4290.8530221\ttotal: 697ms\tremaining: 3m 28s\n",
      "100:\tlearn: 1550.1007987\ttotal: 60s\tremaining: 1m 58s\n",
      "200:\tlearn: 1462.0757295\ttotal: 2m 1s\tremaining: 1m\n",
      "299:\tlearn: 1416.2239863\ttotal: 3m 6s\tremaining: 0us\n",
      "0:\tlearn: 4324.4058659\ttotal: 296ms\tremaining: 1m 28s\n",
      "100:\tlearn: 1718.1818713\ttotal: 25.3s\tremaining: 49.9s\n",
      "200:\tlearn: 1631.8217275\ttotal: 50.4s\tremaining: 24.8s\n",
      "299:\tlearn: 1595.2765736\ttotal: 1m 14s\tremaining: 0us\n",
      "0:\tlearn: 4295.7357332\ttotal: 466ms\tremaining: 2m 19s\n",
      "100:\tlearn: 1549.8660078\ttotal: 1m\tremaining: 1m 58s\n",
      "200:\tlearn: 1467.6368972\ttotal: 2m 4s\tremaining: 1m 1s\n",
      "299:\tlearn: 1422.9320892\ttotal: 3m 9s\tremaining: 0us\n",
      "0:\tlearn: 3860.6808213\ttotal: 416ms\tremaining: 2m 4s\n",
      "100:\tlearn: 1613.2555593\ttotal: 25.5s\tremaining: 50.3s\n",
      "200:\tlearn: 1558.8604239\ttotal: 50.2s\tremaining: 24.7s\n",
      "299:\tlearn: 1529.6439866\ttotal: 1m 14s\tremaining: 0us\n",
      "0:\tlearn: 4281.2358641\ttotal: 619ms\tremaining: 3m 5s\n",
      "100:\tlearn: 1539.7733443\ttotal: 1m\tremaining: 2m\n",
      "200:\tlearn: 1449.6964036\ttotal: 2m 5s\tremaining: 1m 1s\n",
      "299:\tlearn: 1398.6232244\ttotal: 3m 9s\tremaining: 0us\n"
     ]
    },
    {
     "name": "stderr",
     "output_type": "stream",
     "text": [
      "/Users/admin_mbp_15_2012/opt/anaconda3/envs/ds_practicum_env/lib/python3.9/site-packages/sklearn/model_selection/_validation.py:610: FitFailedWarning: Estimator fit failed. The score on this train-test partition for these parameters will be set to nan. Details: \n",
      "Traceback (most recent call last):\n",
      "  File \"/Users/admin_mbp_15_2012/opt/anaconda3/envs/ds_practicum_env/lib/python3.9/site-packages/sklearn/model_selection/_validation.py\", line 593, in _fit_and_score\n",
      "    estimator.fit(X_train, y_train, **fit_params)\n",
      "  File \"/Users/admin_mbp_15_2012/opt/anaconda3/envs/ds_practicum_env/lib/python3.9/site-packages/catboost/core.py\", line 5299, in fit\n",
      "    return self._fit(X, y, cat_features, None, None, None, sample_weight, None, None, None, None, baseline,\n",
      "  File \"/Users/admin_mbp_15_2012/opt/anaconda3/envs/ds_practicum_env/lib/python3.9/site-packages/catboost/core.py\", line 2021, in _fit\n",
      "    train_params = self._prepare_train_params(\n",
      "  File \"/Users/admin_mbp_15_2012/opt/anaconda3/envs/ds_practicum_env/lib/python3.9/site-packages/catboost/core.py\", line 1953, in _prepare_train_params\n",
      "    _check_train_params(params)\n",
      "  File \"_catboost.pyx\", line 5839, in _catboost._check_train_params\n",
      "  File \"_catboost.pyx\", line 5858, in _catboost._check_train_params\n",
      "_catboost.CatBoostError: catboost/private/libs/options/oblivious_tree_options.cpp:122: Maximum tree depth is 16\n",
      "\n",
      "  warnings.warn(\"Estimator fit failed. The score on this train-test\"\n",
      "/Users/admin_mbp_15_2012/opt/anaconda3/envs/ds_practicum_env/lib/python3.9/site-packages/sklearn/model_selection/_validation.py:610: FitFailedWarning: Estimator fit failed. The score on this train-test partition for these parameters will be set to nan. Details: \n",
      "Traceback (most recent call last):\n",
      "  File \"/Users/admin_mbp_15_2012/opt/anaconda3/envs/ds_practicum_env/lib/python3.9/site-packages/sklearn/model_selection/_validation.py\", line 593, in _fit_and_score\n",
      "    estimator.fit(X_train, y_train, **fit_params)\n",
      "  File \"/Users/admin_mbp_15_2012/opt/anaconda3/envs/ds_practicum_env/lib/python3.9/site-packages/catboost/core.py\", line 5299, in fit\n",
      "    return self._fit(X, y, cat_features, None, None, None, sample_weight, None, None, None, None, baseline,\n",
      "  File \"/Users/admin_mbp_15_2012/opt/anaconda3/envs/ds_practicum_env/lib/python3.9/site-packages/catboost/core.py\", line 2021, in _fit\n",
      "    train_params = self._prepare_train_params(\n",
      "  File \"/Users/admin_mbp_15_2012/opt/anaconda3/envs/ds_practicum_env/lib/python3.9/site-packages/catboost/core.py\", line 1953, in _prepare_train_params\n",
      "    _check_train_params(params)\n",
      "  File \"_catboost.pyx\", line 5839, in _catboost._check_train_params\n",
      "  File \"_catboost.pyx\", line 5858, in _catboost._check_train_params\n",
      "_catboost.CatBoostError: catboost/private/libs/options/oblivious_tree_options.cpp:122: Maximum tree depth is 16\n",
      "\n",
      "  warnings.warn(\"Estimator fit failed. The score on this train-test\"\n",
      "/Users/admin_mbp_15_2012/opt/anaconda3/envs/ds_practicum_env/lib/python3.9/site-packages/sklearn/model_selection/_validation.py:610: FitFailedWarning: Estimator fit failed. The score on this train-test partition for these parameters will be set to nan. Details: \n",
      "Traceback (most recent call last):\n",
      "  File \"/Users/admin_mbp_15_2012/opt/anaconda3/envs/ds_practicum_env/lib/python3.9/site-packages/sklearn/model_selection/_validation.py\", line 593, in _fit_and_score\n",
      "    estimator.fit(X_train, y_train, **fit_params)\n",
      "  File \"/Users/admin_mbp_15_2012/opt/anaconda3/envs/ds_practicum_env/lib/python3.9/site-packages/catboost/core.py\", line 5299, in fit\n",
      "    return self._fit(X, y, cat_features, None, None, None, sample_weight, None, None, None, None, baseline,\n",
      "  File \"/Users/admin_mbp_15_2012/opt/anaconda3/envs/ds_practicum_env/lib/python3.9/site-packages/catboost/core.py\", line 2021, in _fit\n",
      "    train_params = self._prepare_train_params(\n",
      "  File \"/Users/admin_mbp_15_2012/opt/anaconda3/envs/ds_practicum_env/lib/python3.9/site-packages/catboost/core.py\", line 1953, in _prepare_train_params\n",
      "    _check_train_params(params)\n",
      "  File \"_catboost.pyx\", line 5839, in _catboost._check_train_params\n",
      "  File \"_catboost.pyx\", line 5858, in _catboost._check_train_params\n",
      "_catboost.CatBoostError: catboost/private/libs/options/oblivious_tree_options.cpp:122: Maximum tree depth is 16\n",
      "\n",
      "  warnings.warn(\"Estimator fit failed. The score on this train-test\"\n",
      "/Users/admin_mbp_15_2012/opt/anaconda3/envs/ds_practicum_env/lib/python3.9/site-packages/sklearn/model_selection/_validation.py:610: FitFailedWarning: Estimator fit failed. The score on this train-test partition for these parameters will be set to nan. Details: \n",
      "Traceback (most recent call last):\n",
      "  File \"/Users/admin_mbp_15_2012/opt/anaconda3/envs/ds_practicum_env/lib/python3.9/site-packages/sklearn/model_selection/_validation.py\", line 593, in _fit_and_score\n",
      "    estimator.fit(X_train, y_train, **fit_params)\n",
      "  File \"/Users/admin_mbp_15_2012/opt/anaconda3/envs/ds_practicum_env/lib/python3.9/site-packages/catboost/core.py\", line 5299, in fit\n",
      "    return self._fit(X, y, cat_features, None, None, None, sample_weight, None, None, None, None, baseline,\n",
      "  File \"/Users/admin_mbp_15_2012/opt/anaconda3/envs/ds_practicum_env/lib/python3.9/site-packages/catboost/core.py\", line 2021, in _fit\n",
      "    train_params = self._prepare_train_params(\n",
      "  File \"/Users/admin_mbp_15_2012/opt/anaconda3/envs/ds_practicum_env/lib/python3.9/site-packages/catboost/core.py\", line 1953, in _prepare_train_params\n",
      "    _check_train_params(params)\n",
      "  File \"_catboost.pyx\", line 5839, in _catboost._check_train_params\n",
      "  File \"_catboost.pyx\", line 5858, in _catboost._check_train_params\n",
      "_catboost.CatBoostError: catboost/private/libs/options/oblivious_tree_options.cpp:122: Maximum tree depth is 16\n",
      "\n",
      "  warnings.warn(\"Estimator fit failed. The score on this train-test\"\n",
      "/Users/admin_mbp_15_2012/opt/anaconda3/envs/ds_practicum_env/lib/python3.9/site-packages/sklearn/model_selection/_validation.py:610: FitFailedWarning: Estimator fit failed. The score on this train-test partition for these parameters will be set to nan. Details: \n",
      "Traceback (most recent call last):\n",
      "  File \"/Users/admin_mbp_15_2012/opt/anaconda3/envs/ds_practicum_env/lib/python3.9/site-packages/sklearn/model_selection/_validation.py\", line 593, in _fit_and_score\n",
      "    estimator.fit(X_train, y_train, **fit_params)\n",
      "  File \"/Users/admin_mbp_15_2012/opt/anaconda3/envs/ds_practicum_env/lib/python3.9/site-packages/catboost/core.py\", line 5299, in fit\n",
      "    return self._fit(X, y, cat_features, None, None, None, sample_weight, None, None, None, None, baseline,\n",
      "  File \"/Users/admin_mbp_15_2012/opt/anaconda3/envs/ds_practicum_env/lib/python3.9/site-packages/catboost/core.py\", line 2021, in _fit\n",
      "    train_params = self._prepare_train_params(\n",
      "  File \"/Users/admin_mbp_15_2012/opt/anaconda3/envs/ds_practicum_env/lib/python3.9/site-packages/catboost/core.py\", line 1953, in _prepare_train_params\n",
      "    _check_train_params(params)\n",
      "  File \"_catboost.pyx\", line 5839, in _catboost._check_train_params\n",
      "  File \"_catboost.pyx\", line 5858, in _catboost._check_train_params\n",
      "_catboost.CatBoostError: catboost/private/libs/options/oblivious_tree_options.cpp:122: Maximum tree depth is 16\n",
      "\n",
      "  warnings.warn(\"Estimator fit failed. The score on this train-test\"\n",
      "/Users/admin_mbp_15_2012/opt/anaconda3/envs/ds_practicum_env/lib/python3.9/site-packages/sklearn/model_selection/_validation.py:610: FitFailedWarning: Estimator fit failed. The score on this train-test partition for these parameters will be set to nan. Details: \n",
      "Traceback (most recent call last):\n",
      "  File \"/Users/admin_mbp_15_2012/opt/anaconda3/envs/ds_practicum_env/lib/python3.9/site-packages/sklearn/model_selection/_validation.py\", line 593, in _fit_and_score\n",
      "    estimator.fit(X_train, y_train, **fit_params)\n",
      "  File \"/Users/admin_mbp_15_2012/opt/anaconda3/envs/ds_practicum_env/lib/python3.9/site-packages/catboost/core.py\", line 5299, in fit\n",
      "    return self._fit(X, y, cat_features, None, None, None, sample_weight, None, None, None, None, baseline,\n",
      "  File \"/Users/admin_mbp_15_2012/opt/anaconda3/envs/ds_practicum_env/lib/python3.9/site-packages/catboost/core.py\", line 2021, in _fit\n",
      "    train_params = self._prepare_train_params(\n",
      "  File \"/Users/admin_mbp_15_2012/opt/anaconda3/envs/ds_practicum_env/lib/python3.9/site-packages/catboost/core.py\", line 1953, in _prepare_train_params\n",
      "    _check_train_params(params)\n",
      "  File \"_catboost.pyx\", line 5839, in _catboost._check_train_params\n",
      "  File \"_catboost.pyx\", line 5858, in _catboost._check_train_params\n",
      "_catboost.CatBoostError: catboost/private/libs/options/oblivious_tree_options.cpp:122: Maximum tree depth is 16\n",
      "\n",
      "  warnings.warn(\"Estimator fit failed. The score on this train-test\"\n",
      "/Users/admin_mbp_15_2012/opt/anaconda3/envs/ds_practicum_env/lib/python3.9/site-packages/sklearn/model_selection/_validation.py:610: FitFailedWarning: Estimator fit failed. The score on this train-test partition for these parameters will be set to nan. Details: \n",
      "Traceback (most recent call last):\n",
      "  File \"/Users/admin_mbp_15_2012/opt/anaconda3/envs/ds_practicum_env/lib/python3.9/site-packages/sklearn/model_selection/_validation.py\", line 593, in _fit_and_score\n",
      "    estimator.fit(X_train, y_train, **fit_params)\n",
      "  File \"/Users/admin_mbp_15_2012/opt/anaconda3/envs/ds_practicum_env/lib/python3.9/site-packages/catboost/core.py\", line 5299, in fit\n",
      "    return self._fit(X, y, cat_features, None, None, None, sample_weight, None, None, None, None, baseline,\n",
      "  File \"/Users/admin_mbp_15_2012/opt/anaconda3/envs/ds_practicum_env/lib/python3.9/site-packages/catboost/core.py\", line 2021, in _fit\n",
      "    train_params = self._prepare_train_params(\n",
      "  File \"/Users/admin_mbp_15_2012/opt/anaconda3/envs/ds_practicum_env/lib/python3.9/site-packages/catboost/core.py\", line 1953, in _prepare_train_params\n",
      "    _check_train_params(params)\n",
      "  File \"_catboost.pyx\", line 5839, in _catboost._check_train_params\n",
      "  File \"_catboost.pyx\", line 5858, in _catboost._check_train_params\n",
      "_catboost.CatBoostError: catboost/private/libs/options/oblivious_tree_options.cpp:122: Maximum tree depth is 16\n",
      "\n",
      "  warnings.warn(\"Estimator fit failed. The score on this train-test\"\n",
      "/Users/admin_mbp_15_2012/opt/anaconda3/envs/ds_practicum_env/lib/python3.9/site-packages/sklearn/model_selection/_validation.py:610: FitFailedWarning: Estimator fit failed. The score on this train-test partition for these parameters will be set to nan. Details: \n",
      "Traceback (most recent call last):\n",
      "  File \"/Users/admin_mbp_15_2012/opt/anaconda3/envs/ds_practicum_env/lib/python3.9/site-packages/sklearn/model_selection/_validation.py\", line 593, in _fit_and_score\n",
      "    estimator.fit(X_train, y_train, **fit_params)\n",
      "  File \"/Users/admin_mbp_15_2012/opt/anaconda3/envs/ds_practicum_env/lib/python3.9/site-packages/catboost/core.py\", line 5299, in fit\n",
      "    return self._fit(X, y, cat_features, None, None, None, sample_weight, None, None, None, None, baseline,\n",
      "  File \"/Users/admin_mbp_15_2012/opt/anaconda3/envs/ds_practicum_env/lib/python3.9/site-packages/catboost/core.py\", line 2021, in _fit\n",
      "    train_params = self._prepare_train_params(\n",
      "  File \"/Users/admin_mbp_15_2012/opt/anaconda3/envs/ds_practicum_env/lib/python3.9/site-packages/catboost/core.py\", line 1953, in _prepare_train_params\n",
      "    _check_train_params(params)\n",
      "  File \"_catboost.pyx\", line 5839, in _catboost._check_train_params\n",
      "  File \"_catboost.pyx\", line 5858, in _catboost._check_train_params\n",
      "_catboost.CatBoostError: catboost/private/libs/options/oblivious_tree_options.cpp:122: Maximum tree depth is 16\n",
      "\n",
      "  warnings.warn(\"Estimator fit failed. The score on this train-test\"\n",
      "/Users/admin_mbp_15_2012/opt/anaconda3/envs/ds_practicum_env/lib/python3.9/site-packages/sklearn/model_selection/_validation.py:610: FitFailedWarning: Estimator fit failed. The score on this train-test partition for these parameters will be set to nan. Details: \n",
      "Traceback (most recent call last):\n",
      "  File \"/Users/admin_mbp_15_2012/opt/anaconda3/envs/ds_practicum_env/lib/python3.9/site-packages/sklearn/model_selection/_validation.py\", line 593, in _fit_and_score\n",
      "    estimator.fit(X_train, y_train, **fit_params)\n",
      "  File \"/Users/admin_mbp_15_2012/opt/anaconda3/envs/ds_practicum_env/lib/python3.9/site-packages/catboost/core.py\", line 5299, in fit\n",
      "    return self._fit(X, y, cat_features, None, None, None, sample_weight, None, None, None, None, baseline,\n",
      "  File \"/Users/admin_mbp_15_2012/opt/anaconda3/envs/ds_practicum_env/lib/python3.9/site-packages/catboost/core.py\", line 2021, in _fit\n",
      "    train_params = self._prepare_train_params(\n",
      "  File \"/Users/admin_mbp_15_2012/opt/anaconda3/envs/ds_practicum_env/lib/python3.9/site-packages/catboost/core.py\", line 1953, in _prepare_train_params\n",
      "    _check_train_params(params)\n",
      "  File \"_catboost.pyx\", line 5839, in _catboost._check_train_params\n",
      "  File \"_catboost.pyx\", line 5858, in _catboost._check_train_params\n",
      "_catboost.CatBoostError: catboost/private/libs/options/oblivious_tree_options.cpp:122: Maximum tree depth is 16\n",
      "\n",
      "  warnings.warn(\"Estimator fit failed. The score on this train-test\"\n"
     ]
    },
    {
     "name": "stdout",
     "output_type": "stream",
     "text": [
      "0:\tlearn: 3749.0979688\ttotal: 200ms\tremaining: 59.7s\n",
      "100:\tlearn: 1440.5081573\ttotal: 11.9s\tremaining: 23.5s\n",
      "200:\tlearn: 1357.5313921\ttotal: 24.4s\tremaining: 12s\n",
      "299:\tlearn: 1305.0664909\ttotal: 37.7s\tremaining: 0us\n",
      "CPU times: user 3min 27s, sys: 4.09 s, total: 3min 31s\n",
      "Wall time: 5min 54s\n"
     ]
    }
   ],
   "source": [
    "%%time\n",
    "cat_model =  catboost(features_train_c, target_train_c)"
   ]
  },
  {
   "cell_type": "markdown",
   "metadata": {},
   "source": [
    "---"
   ]
  },
  {
   "cell_type": "markdown",
   "metadata": {},
   "source": [
    "**Посмотрим на показатели в ходе GridSearchCV:**"
   ]
  },
  {
   "cell_type": "code",
   "execution_count": 57,
   "metadata": {
    "scrolled": true
   },
   "outputs": [
    {
     "data": {
      "text/html": [
       "<div>\n",
       "<style scoped>\n",
       "    .dataframe tbody tr th:only-of-type {\n",
       "        vertical-align: middle;\n",
       "    }\n",
       "\n",
       "    .dataframe tbody tr th {\n",
       "        vertical-align: top;\n",
       "    }\n",
       "\n",
       "    .dataframe thead th {\n",
       "        text-align: right;\n",
       "    }\n",
       "</style>\n",
       "<table border=\"1\" class=\"dataframe\">\n",
       "  <thead>\n",
       "    <tr style=\"text-align: right;\">\n",
       "      <th></th>\n",
       "      <th>mean_fit_time</th>\n",
       "      <th>std_fit_time</th>\n",
       "      <th>mean_score_time</th>\n",
       "      <th>std_score_time</th>\n",
       "      <th>param_depth</th>\n",
       "      <th>param_iterations</th>\n",
       "      <th>param_learning_rate</th>\n",
       "      <th>params</th>\n",
       "      <th>split0_test_score</th>\n",
       "      <th>split1_test_score</th>\n",
       "      <th>split2_test_score</th>\n",
       "      <th>mean_test_score</th>\n",
       "      <th>std_test_score</th>\n",
       "      <th>rank_test_score</th>\n",
       "    </tr>\n",
       "  </thead>\n",
       "  <tbody>\n",
       "    <tr>\n",
       "      <th>0</th>\n",
       "      <td>74.177061</td>\n",
       "      <td>0.199592</td>\n",
       "      <td>0.232529</td>\n",
       "      <td>0.037106</td>\n",
       "      <td>5</td>\n",
       "      <td>300</td>\n",
       "      <td>0.03</td>\n",
       "      <td>{'depth': 5, 'iterations': 300, 'learning_rate...</td>\n",
       "      <td>-1708.494195</td>\n",
       "      <td>-1706.834818</td>\n",
       "      <td>-1725.726723</td>\n",
       "      <td>-1713.685245</td>\n",
       "      <td>8.541517</td>\n",
       "      <td>6</td>\n",
       "    </tr>\n",
       "    <tr>\n",
       "      <th>1</th>\n",
       "      <td>75.552748</td>\n",
       "      <td>0.863644</td>\n",
       "      <td>0.258604</td>\n",
       "      <td>0.015218</td>\n",
       "      <td>5</td>\n",
       "      <td>300</td>\n",
       "      <td>0.09</td>\n",
       "      <td>{'depth': 5, 'iterations': 300, 'learning_rate...</td>\n",
       "      <td>-1617.700241</td>\n",
       "      <td>-1610.044545</td>\n",
       "      <td>-1618.632048</td>\n",
       "      <td>-1615.458944</td>\n",
       "      <td>3.847411</td>\n",
       "      <td>5</td>\n",
       "    </tr>\n",
       "    <tr>\n",
       "      <th>2</th>\n",
       "      <td>82.632776</td>\n",
       "      <td>7.652701</td>\n",
       "      <td>0.343070</td>\n",
       "      <td>0.106284</td>\n",
       "      <td>5</td>\n",
       "      <td>300</td>\n",
       "      <td>0.25</td>\n",
       "      <td>{'depth': 5, 'iterations': 300, 'learning_rate...</td>\n",
       "      <td>-1579.989028</td>\n",
       "      <td>-1563.095628</td>\n",
       "      <td>-1577.232151</td>\n",
       "      <td>-1573.438936</td>\n",
       "      <td>7.399914</td>\n",
       "      <td>3</td>\n",
       "    </tr>\n",
       "    <tr>\n",
       "      <th>3</th>\n",
       "      <td>188.719081</td>\n",
       "      <td>0.567061</td>\n",
       "      <td>0.497592</td>\n",
       "      <td>0.014961</td>\n",
       "      <td>10</td>\n",
       "      <td>300</td>\n",
       "      <td>0.03</td>\n",
       "      <td>{'depth': 10, 'iterations': 300, 'learning_rat...</td>\n",
       "      <td>-1598.902961</td>\n",
       "      <td>-1581.364145</td>\n",
       "      <td>-1606.741657</td>\n",
       "      <td>-1595.669588</td>\n",
       "      <td>10.609604</td>\n",
       "      <td>4</td>\n",
       "    </tr>\n",
       "    <tr>\n",
       "      <th>4</th>\n",
       "      <td>191.828890</td>\n",
       "      <td>0.880370</td>\n",
       "      <td>0.309618</td>\n",
       "      <td>0.029444</td>\n",
       "      <td>10</td>\n",
       "      <td>300</td>\n",
       "      <td>0.09</td>\n",
       "      <td>{'depth': 10, 'iterations': 300, 'learning_rat...</td>\n",
       "      <td>-1544.999824</td>\n",
       "      <td>-1525.683281</td>\n",
       "      <td>-1544.198763</td>\n",
       "      <td>-1538.293956</td>\n",
       "      <td>8.923089</td>\n",
       "      <td>2</td>\n",
       "    </tr>\n",
       "    <tr>\n",
       "      <th>5</th>\n",
       "      <td>113.442279</td>\n",
       "      <td>59.859399</td>\n",
       "      <td>0.230764</td>\n",
       "      <td>0.073738</td>\n",
       "      <td>10</td>\n",
       "      <td>300</td>\n",
       "      <td>0.25</td>\n",
       "      <td>{'depth': 10, 'iterations': 300, 'learning_rat...</td>\n",
       "      <td>-1536.178020</td>\n",
       "      <td>-1512.817401</td>\n",
       "      <td>-1528.835963</td>\n",
       "      <td>-1525.943795</td>\n",
       "      <td>9.753738</td>\n",
       "      <td>1</td>\n",
       "    </tr>\n",
       "    <tr>\n",
       "      <th>6</th>\n",
       "      <td>0.434239</td>\n",
       "      <td>0.048804</td>\n",
       "      <td>0.000000</td>\n",
       "      <td>0.000000</td>\n",
       "      <td>20</td>\n",
       "      <td>300</td>\n",
       "      <td>0.03</td>\n",
       "      <td>{'depth': 20, 'iterations': 300, 'learning_rat...</td>\n",
       "      <td>NaN</td>\n",
       "      <td>NaN</td>\n",
       "      <td>NaN</td>\n",
       "      <td>NaN</td>\n",
       "      <td>NaN</td>\n",
       "      <td>7</td>\n",
       "    </tr>\n",
       "    <tr>\n",
       "      <th>7</th>\n",
       "      <td>0.396662</td>\n",
       "      <td>0.073918</td>\n",
       "      <td>0.000000</td>\n",
       "      <td>0.000000</td>\n",
       "      <td>20</td>\n",
       "      <td>300</td>\n",
       "      <td>0.09</td>\n",
       "      <td>{'depth': 20, 'iterations': 300, 'learning_rat...</td>\n",
       "      <td>NaN</td>\n",
       "      <td>NaN</td>\n",
       "      <td>NaN</td>\n",
       "      <td>NaN</td>\n",
       "      <td>NaN</td>\n",
       "      <td>8</td>\n",
       "    </tr>\n",
       "    <tr>\n",
       "      <th>8</th>\n",
       "      <td>0.467471</td>\n",
       "      <td>0.003293</td>\n",
       "      <td>0.000000</td>\n",
       "      <td>0.000000</td>\n",
       "      <td>20</td>\n",
       "      <td>300</td>\n",
       "      <td>0.25</td>\n",
       "      <td>{'depth': 20, 'iterations': 300, 'learning_rat...</td>\n",
       "      <td>NaN</td>\n",
       "      <td>NaN</td>\n",
       "      <td>NaN</td>\n",
       "      <td>NaN</td>\n",
       "      <td>NaN</td>\n",
       "      <td>9</td>\n",
       "    </tr>\n",
       "  </tbody>\n",
       "</table>\n",
       "</div>"
      ],
      "text/plain": [
       "   mean_fit_time  std_fit_time  mean_score_time  std_score_time param_depth  \\\n",
       "0      74.177061      0.199592         0.232529        0.037106           5   \n",
       "1      75.552748      0.863644         0.258604        0.015218           5   \n",
       "2      82.632776      7.652701         0.343070        0.106284           5   \n",
       "3     188.719081      0.567061         0.497592        0.014961          10   \n",
       "4     191.828890      0.880370         0.309618        0.029444          10   \n",
       "5     113.442279     59.859399         0.230764        0.073738          10   \n",
       "6       0.434239      0.048804         0.000000        0.000000          20   \n",
       "7       0.396662      0.073918         0.000000        0.000000          20   \n",
       "8       0.467471      0.003293         0.000000        0.000000          20   \n",
       "\n",
       "  param_iterations param_learning_rate  \\\n",
       "0              300                0.03   \n",
       "1              300                0.09   \n",
       "2              300                0.25   \n",
       "3              300                0.03   \n",
       "4              300                0.09   \n",
       "5              300                0.25   \n",
       "6              300                0.03   \n",
       "7              300                0.09   \n",
       "8              300                0.25   \n",
       "\n",
       "                                              params  split0_test_score  \\\n",
       "0  {'depth': 5, 'iterations': 300, 'learning_rate...       -1708.494195   \n",
       "1  {'depth': 5, 'iterations': 300, 'learning_rate...       -1617.700241   \n",
       "2  {'depth': 5, 'iterations': 300, 'learning_rate...       -1579.989028   \n",
       "3  {'depth': 10, 'iterations': 300, 'learning_rat...       -1598.902961   \n",
       "4  {'depth': 10, 'iterations': 300, 'learning_rat...       -1544.999824   \n",
       "5  {'depth': 10, 'iterations': 300, 'learning_rat...       -1536.178020   \n",
       "6  {'depth': 20, 'iterations': 300, 'learning_rat...                NaN   \n",
       "7  {'depth': 20, 'iterations': 300, 'learning_rat...                NaN   \n",
       "8  {'depth': 20, 'iterations': 300, 'learning_rat...                NaN   \n",
       "\n",
       "   split1_test_score  split2_test_score  mean_test_score  std_test_score  \\\n",
       "0       -1706.834818       -1725.726723     -1713.685245        8.541517   \n",
       "1       -1610.044545       -1618.632048     -1615.458944        3.847411   \n",
       "2       -1563.095628       -1577.232151     -1573.438936        7.399914   \n",
       "3       -1581.364145       -1606.741657     -1595.669588       10.609604   \n",
       "4       -1525.683281       -1544.198763     -1538.293956        8.923089   \n",
       "5       -1512.817401       -1528.835963     -1525.943795        9.753738   \n",
       "6                NaN                NaN              NaN             NaN   \n",
       "7                NaN                NaN              NaN             NaN   \n",
       "8                NaN                NaN              NaN             NaN   \n",
       "\n",
       "   rank_test_score  \n",
       "0                6  \n",
       "1                5  \n",
       "2                3  \n",
       "3                4  \n",
       "4                2  \n",
       "5                1  \n",
       "6                7  \n",
       "7                8  \n",
       "8                9  "
      ]
     },
     "execution_count": 57,
     "metadata": {},
     "output_type": "execute_result"
    }
   ],
   "source": [
    "cat_results = pd.DataFrame(cat_model.cv_results_)\n",
    "cat_results"
   ]
  },
  {
   "cell_type": "markdown",
   "metadata": {},
   "source": [
    "---"
   ]
  },
  {
   "cell_type": "markdown",
   "metadata": {},
   "source": [
    "**Выделим строку с лучшей оценкой:**"
   ]
  },
  {
   "cell_type": "code",
   "execution_count": 58,
   "metadata": {},
   "outputs": [
    {
     "data": {
      "text/html": [
       "<div>\n",
       "<style scoped>\n",
       "    .dataframe tbody tr th:only-of-type {\n",
       "        vertical-align: middle;\n",
       "    }\n",
       "\n",
       "    .dataframe tbody tr th {\n",
       "        vertical-align: top;\n",
       "    }\n",
       "\n",
       "    .dataframe thead th {\n",
       "        text-align: right;\n",
       "    }\n",
       "</style>\n",
       "<table border=\"1\" class=\"dataframe\">\n",
       "  <thead>\n",
       "    <tr style=\"text-align: right;\">\n",
       "      <th></th>\n",
       "      <th>mean_fit_time</th>\n",
       "      <th>std_fit_time</th>\n",
       "      <th>mean_score_time</th>\n",
       "      <th>std_score_time</th>\n",
       "      <th>param_depth</th>\n",
       "      <th>param_iterations</th>\n",
       "      <th>param_learning_rate</th>\n",
       "      <th>params</th>\n",
       "      <th>split0_test_score</th>\n",
       "      <th>split1_test_score</th>\n",
       "      <th>split2_test_score</th>\n",
       "      <th>mean_test_score</th>\n",
       "      <th>std_test_score</th>\n",
       "      <th>rank_test_score</th>\n",
       "    </tr>\n",
       "  </thead>\n",
       "  <tbody>\n",
       "    <tr>\n",
       "      <th>5</th>\n",
       "      <td>113.442279</td>\n",
       "      <td>59.859399</td>\n",
       "      <td>0.230764</td>\n",
       "      <td>0.073738</td>\n",
       "      <td>10</td>\n",
       "      <td>300</td>\n",
       "      <td>0.25</td>\n",
       "      <td>{'depth': 10, 'iterations': 300, 'learning_rat...</td>\n",
       "      <td>-1536.17802</td>\n",
       "      <td>-1512.817401</td>\n",
       "      <td>-1528.835963</td>\n",
       "      <td>-1525.943795</td>\n",
       "      <td>9.753738</td>\n",
       "      <td>1</td>\n",
       "    </tr>\n",
       "  </tbody>\n",
       "</table>\n",
       "</div>"
      ],
      "text/plain": [
       "   mean_fit_time  std_fit_time  mean_score_time  std_score_time param_depth  \\\n",
       "5     113.442279     59.859399         0.230764        0.073738          10   \n",
       "\n",
       "  param_iterations param_learning_rate  \\\n",
       "5              300                0.25   \n",
       "\n",
       "                                              params  split0_test_score  \\\n",
       "5  {'depth': 10, 'iterations': 300, 'learning_rat...        -1536.17802   \n",
       "\n",
       "   split1_test_score  split2_test_score  mean_test_score  std_test_score  \\\n",
       "5       -1512.817401       -1528.835963     -1525.943795        9.753738   \n",
       "\n",
       "   rank_test_score  \n",
       "5                1  "
      ]
     },
     "execution_count": 58,
     "metadata": {},
     "output_type": "execute_result"
    }
   ],
   "source": [
    "cat_results[cat_results['rank_test_score'] == 1]"
   ]
  },
  {
   "cell_type": "markdown",
   "metadata": {},
   "source": [
    "---"
   ]
  },
  {
   "cell_type": "markdown",
   "metadata": {},
   "source": [
    "**Сохраним время обучения, время предсказания, для модели с лучшей оценкой:**"
   ]
  },
  {
   "cell_type": "code",
   "execution_count": 59,
   "metadata": {},
   "outputs": [
    {
     "data": {
      "text/plain": [
       "113.442"
      ]
     },
     "execution_count": 59,
     "metadata": {},
     "output_type": "execute_result"
    }
   ],
   "source": [
    "cat_fit_time = cat_results[cat_results['rank_test_score'] == 1]['mean_fit_time'].values[0].round(3)\n",
    "cat_fit_time"
   ]
  },
  {
   "cell_type": "code",
   "execution_count": 60,
   "metadata": {},
   "outputs": [
    {
     "data": {
      "text/plain": [
       "0.231"
      ]
     },
     "execution_count": 60,
     "metadata": {},
     "output_type": "execute_result"
    }
   ],
   "source": [
    "cat_predict_time = cat_results[cat_results['rank_test_score'] == 1]['mean_score_time'].values[0].round(3)\n",
    "cat_predict_time"
   ]
  },
  {
   "cell_type": "markdown",
   "metadata": {},
   "source": [
    "---"
   ]
  },
  {
   "cell_type": "markdown",
   "metadata": {},
   "source": [
    "**Сохраним лучшую оценку:**"
   ]
  },
  {
   "cell_type": "code",
   "execution_count": 61,
   "metadata": {},
   "outputs": [
    {
     "data": {
      "text/plain": [
       "1525.9437947376762"
      ]
     },
     "execution_count": 61,
     "metadata": {},
     "output_type": "execute_result"
    }
   ],
   "source": [
    "cat_best_score = cat_model.best_score_*-1\n",
    "cat_best_score"
   ]
  },
  {
   "cell_type": "markdown",
   "metadata": {},
   "source": [
    "---"
   ]
  },
  {
   "cell_type": "markdown",
   "metadata": {},
   "source": [
    "### Промежуточный вывод"
   ]
  },
  {
   "cell_type": "markdown",
   "metadata": {},
   "source": [
    "**В ходе обучения моделей сделали 2 разных выборки для модели catbosot и 2-х остальных.**\n",
    "\n",
    "**Для моделей LightGBM и случайный лес в регрессии применили методы кодирования и масштабирования признаков.**\n",
    "\n",
    "**Обучили, получили предсказания и вычислили RMSE для 3-х видов моделей:**\n",
    "- LightGBM и CatBoost с градиентным бустингом\n",
    "- Случайный лес как одна из базовых моделей"
   ]
  },
  {
   "cell_type": "markdown",
   "metadata": {},
   "source": [
    "---"
   ]
  },
  {
   "cell_type": "markdown",
   "metadata": {},
   "source": [
    "---"
   ]
  },
  {
   "cell_type": "markdown",
   "metadata": {},
   "source": [
    "## Анализ моделей"
   ]
  },
  {
   "cell_type": "markdown",
   "metadata": {},
   "source": [
    "---"
   ]
  },
  {
   "cell_type": "markdown",
   "metadata": {},
   "source": [
    "---"
   ]
  },
  {
   "cell_type": "markdown",
   "metadata": {},
   "source": [
    "### Скорость и качество моделей:"
   ]
  },
  {
   "cell_type": "markdown",
   "metadata": {},
   "source": [
    "---"
   ]
  },
  {
   "cell_type": "markdown",
   "metadata": {},
   "source": [
    "**Создадим таблицу с результатами обучения:**"
   ]
  },
  {
   "cell_type": "code",
   "execution_count": 62,
   "metadata": {},
   "outputs": [
    {
     "data": {
      "text/html": [
       "<div>\n",
       "<style scoped>\n",
       "    .dataframe tbody tr th:only-of-type {\n",
       "        vertical-align: middle;\n",
       "    }\n",
       "\n",
       "    .dataframe tbody tr th {\n",
       "        vertical-align: top;\n",
       "    }\n",
       "\n",
       "    .dataframe thead th {\n",
       "        text-align: right;\n",
       "    }\n",
       "</style>\n",
       "<table border=\"1\" class=\"dataframe\">\n",
       "  <thead>\n",
       "    <tr style=\"text-align: right;\">\n",
       "      <th></th>\n",
       "      <th>Модель</th>\n",
       "      <th>Время обучения</th>\n",
       "      <th>Время предсказания</th>\n",
       "      <th>RMSE</th>\n",
       "    </tr>\n",
       "  </thead>\n",
       "  <tbody>\n",
       "    <tr>\n",
       "      <th>0</th>\n",
       "      <td>LightGBM</td>\n",
       "      <td>4.127</td>\n",
       "      <td>1.531</td>\n",
       "      <td>1504.633119</td>\n",
       "    </tr>\n",
       "    <tr>\n",
       "      <th>1</th>\n",
       "      <td>RandomForestRegressor</td>\n",
       "      <td>10.083</td>\n",
       "      <td>0.161</td>\n",
       "      <td>2142.805139</td>\n",
       "    </tr>\n",
       "    <tr>\n",
       "      <th>2</th>\n",
       "      <td>CatBoost</td>\n",
       "      <td>113.442</td>\n",
       "      <td>0.231</td>\n",
       "      <td>1525.943795</td>\n",
       "    </tr>\n",
       "  </tbody>\n",
       "</table>\n",
       "</div>"
      ],
      "text/plain": [
       "                  Модель  Время обучения  Время предсказания         RMSE\n",
       "0               LightGBM           4.127               1.531  1504.633119\n",
       "1  RandomForestRegressor          10.083               0.161  2142.805139\n",
       "2               CatBoost         113.442               0.231  1525.943795"
      ]
     },
     "execution_count": 62,
     "metadata": {},
     "output_type": "execute_result"
    }
   ],
   "source": [
    "results = {'Модель':['LightGBM','RandomForestRegressor','CatBoost'],\n",
    "            \"Время обучения\":[gbm_fit_time, rfr_fit_time, cat_fit_time],\n",
    "            'Время предсказания':[gbm_predict_time, rfr_predict_time, cat_predict_time],\n",
    "            'RMSE':[gbm_best_score, rfr_best_score, cat_best_score]\n",
    "          }\n",
    "pd.DataFrame(results)"
   ]
  },
  {
   "cell_type": "markdown",
   "metadata": {},
   "source": [
    "---"
   ]
  },
  {
   "cell_type": "markdown",
   "metadata": {},
   "source": [
    "**Промежуточный вывод:**\n",
    "\n",
    "**По точности предсказаний лучшая модель - LightGBM, но CatBoost на 2м месте с минимальным отстованием.**\n",
    "\n",
    "**Быстрее всех обучается модель - LightGBM, с большим отрывом, модель CatBoost обучается длительное время.**\n",
    "\n",
    "**Самое быстрое время предсказания показала модель RandomForestRegressor, за ней идет CatBoost с небольшим отстованием.\n",
    "Дольше всех выдает предсказания модель - LightGBM**\n",
    "\n",
    "**В итоге по совокупности параметров считаем, что лучше всех себя показала модель - `LightGBM`**"
   ]
  },
  {
   "cell_type": "markdown",
   "metadata": {},
   "source": [
    "---"
   ]
  },
  {
   "cell_type": "markdown",
   "metadata": {},
   "source": [
    "---"
   ]
  },
  {
   "cell_type": "markdown",
   "metadata": {},
   "source": [
    "### Проверка лучшей модели на тестовой выборке"
   ]
  },
  {
   "cell_type": "markdown",
   "metadata": {},
   "source": [
    "---"
   ]
  },
  {
   "cell_type": "markdown",
   "metadata": {},
   "source": [
    "**Проведем проверку лучшей модели на тестовой выборке:**"
   ]
  },
  {
   "cell_type": "code",
   "execution_count": 63,
   "metadata": {},
   "outputs": [
    {
     "name": "stdout",
     "output_type": "stream",
     "text": [
      "RMSE лучшей модели на тестовых данных = 1460.297\n",
      "0:\tlearn: 3777.9710324\ttotal: 823ms\tremaining: 4m 6s\n",
      "100:\tlearn: 1437.6243352\ttotal: 1m 4s\tremaining: 2m 7s\n",
      "200:\tlearn: 1345.5082124\ttotal: 2m 10s\tremaining: 1m 4s\n",
      "299:\tlearn: 1284.6424662\ttotal: 3m 4s\tremaining: 0us\n",
      "0:\tlearn: 3759.9372854\ttotal: 945ms\tremaining: 4m 42s\n",
      "100:\tlearn: 1423.8597808\ttotal: 1m 7s\tremaining: 2m 12s\n",
      "200:\tlearn: 1337.5581248\ttotal: 1m 35s\tremaining: 47.1s\n",
      "299:\tlearn: 1278.4089273\ttotal: 1m 50s\tremaining: 0us\n",
      "0:\tlearn: 3744.7484080\ttotal: 523ms\tremaining: 2m 36s\n",
      "100:\tlearn: 1424.5089617\ttotal: 18.1s\tremaining: 35.7s\n",
      "200:\tlearn: 1323.4138097\ttotal: 31.2s\tremaining: 15.3s\n",
      "299:\tlearn: 1261.9231727\ttotal: 39.7s\tremaining: 0us\n"
     ]
    }
   ],
   "source": [
    "prediction_test = gbm_gscv.predict(features_test)\n",
    "print('RMSE лучшей модели на тестовых данных =', (mean_squared_error(prediction_test, target_test) ** 0.5).round(3))"
   ]
  },
  {
   "cell_type": "markdown",
   "metadata": {},
   "source": [
    "---"
   ]
  },
  {
   "cell_type": "markdown",
   "metadata": {},
   "source": [
    "**Промежуточный вывод**\n",
    "\n",
    "**На тестовых данных выбранная как лучшая модель LightGBM показала RMSE в 1460.297. По сравнению с RMSE во время обучения, модель показала слегка более высокую точность.**"
   ]
  },
  {
   "cell_type": "markdown",
   "metadata": {},
   "source": [
    "---"
   ]
  },
  {
   "cell_type": "markdown",
   "metadata": {},
   "source": [
    "---"
   ]
  },
  {
   "cell_type": "markdown",
   "metadata": {},
   "source": [
    "## Общий вывод"
   ]
  },
  {
   "cell_type": "markdown",
   "metadata": {},
   "source": [
    "**Мы провели исследование для Сервиса по продаже автомобилей с пробегом с целью построить модель, умеющую определять рыночную стоимость своего автомобиля.**\n",
    "\n",
    "**Ориентируясь на важные критерии (точность, скорость обучения и предсказания) мы:**\n",
    "- избавились от неинформативных признаков\n",
    "- удалили невосстанавливаемые данные в датасете\n",
    "\n",
    "**В ходе исследования применяли модели как с градиентным бустингом, так и без него:**\n",
    "- LightGBM\n",
    "- CatBoost\n",
    "- RandomForestRegressor\n",
    "\n",
    "**По результатам исследования мы выяснили:**\n",
    "\n",
    "- модель LightGBM показывает самую высокую точность предсказаний, самое короткое время обучения при этом время предсказаний чуть выше других моделей.\n",
    "\n",
    "- CatBoost имеет высокую точность предсказаний, но обучается довольно долго, время предсказаний быстрое\n",
    "\n",
    "**В итоге модель LightGBM, имеет самую высокую точность, обучается быстрее других, выдает предсказания немного дольше других, и по совокупости исследованных параметров рекомендуется выбрать ее.**"
   ]
  }
 ],
 "metadata": {
  "ExecuteTimeLog": [
   {
    "duration": 4556,
    "start_time": "2023-02-20T23:43:28.870Z"
   },
   {
    "duration": 2859,
    "start_time": "2023-02-20T23:43:42.703Z"
   },
   {
    "duration": 3,
    "start_time": "2023-02-20T23:43:49.981Z"
   },
   {
    "duration": 16,
    "start_time": "2023-02-20T23:43:50.846Z"
   },
   {
    "duration": 4103,
    "start_time": "2023-02-20T23:52:22.945Z"
   },
   {
    "duration": 912,
    "start_time": "2023-02-20T23:52:27.050Z"
   },
   {
    "duration": 3,
    "start_time": "2023-02-20T23:52:27.964Z"
   },
   {
    "duration": 32,
    "start_time": "2023-02-20T23:52:27.970Z"
   },
   {
    "duration": 154,
    "start_time": "2023-02-20T23:52:28.004Z"
   },
   {
    "duration": 59,
    "start_time": "2023-02-20T23:52:28.160Z"
   },
   {
    "duration": 27,
    "start_time": "2023-02-20T23:52:28.220Z"
   },
   {
    "duration": 44,
    "start_time": "2023-02-20T23:52:28.249Z"
   },
   {
    "duration": 35,
    "start_time": "2023-02-20T23:52:28.295Z"
   },
   {
    "duration": 96,
    "start_time": "2023-02-20T23:52:29.541Z"
   },
   {
    "duration": 90,
    "start_time": "2023-02-20T23:52:30.278Z"
   },
   {
    "duration": 92,
    "start_time": "2023-02-20T23:52:39.868Z"
   },
   {
    "duration": 97,
    "start_time": "2023-02-20T23:52:42.949Z"
   },
   {
    "duration": 4085,
    "start_time": "2023-02-20T23:58:18.049Z"
   },
   {
    "duration": 956,
    "start_time": "2023-02-20T23:58:22.136Z"
   },
   {
    "duration": 3,
    "start_time": "2023-02-20T23:58:23.681Z"
   },
   {
    "duration": 18,
    "start_time": "2023-02-20T23:58:24.278Z"
   },
   {
    "duration": 144,
    "start_time": "2023-02-20T23:58:24.662Z"
   },
   {
    "duration": 53,
    "start_time": "2023-02-20T23:58:26.441Z"
   },
   {
    "duration": 13,
    "start_time": "2023-02-20T23:58:26.707Z"
   },
   {
    "duration": 32,
    "start_time": "2023-02-20T23:58:27.911Z"
   },
   {
    "duration": 16,
    "start_time": "2023-02-20T23:58:28.449Z"
   },
   {
    "duration": 152,
    "start_time": "2023-02-20T23:58:29.167Z"
   },
   {
    "duration": 112,
    "start_time": "2023-02-20T23:58:29.503Z"
   },
   {
    "duration": 69,
    "start_time": "2023-02-20T23:58:30.366Z"
   },
   {
    "duration": 42,
    "start_time": "2023-02-20T23:58:31.171Z"
   },
   {
    "duration": 11796,
    "start_time": "2023-02-20T23:58:32.289Z"
   },
   {
    "duration": 22,
    "start_time": "2023-02-20T23:58:46.273Z"
   },
   {
    "duration": 24,
    "start_time": "2023-02-20T23:58:46.917Z"
   },
   {
    "duration": 11873,
    "start_time": "2023-02-20T23:58:47.930Z"
   },
   {
    "duration": 31,
    "start_time": "2023-02-20T23:59:52.116Z"
   },
   {
    "duration": 284,
    "start_time": "2023-02-20T23:59:54.814Z"
   },
   {
    "duration": 126,
    "start_time": "2023-02-20T23:59:57.193Z"
   },
   {
    "duration": 33,
    "start_time": "2023-02-20T23:59:57.512Z"
   },
   {
    "duration": 199,
    "start_time": "2023-02-20T23:59:58.357Z"
   },
   {
    "duration": 118,
    "start_time": "2023-02-20T23:59:58.558Z"
   },
   {
    "duration": 20,
    "start_time": "2023-02-20T23:59:58.691Z"
   },
   {
    "duration": 39,
    "start_time": "2023-02-21T00:00:03.225Z"
   },
   {
    "duration": 9,
    "start_time": "2023-02-21T00:00:04.194Z"
   },
   {
    "duration": 9,
    "start_time": "2023-02-21T00:00:04.721Z"
   },
   {
    "duration": 136,
    "start_time": "2023-02-21T00:00:05.904Z"
   },
   {
    "duration": 137,
    "start_time": "2023-02-21T00:00:06.821Z"
   },
   {
    "duration": 57,
    "start_time": "2023-02-21T00:00:11.172Z"
   }
  ],
  "kernelspec": {
   "display_name": "Python 3 (ipykernel)",
   "language": "python",
   "name": "python3"
  },
  "language_info": {
   "codemirror_mode": {
    "name": "ipython",
    "version": 3
   },
   "file_extension": ".py",
   "mimetype": "text/x-python",
   "name": "python",
   "nbconvert_exporter": "python",
   "pygments_lexer": "ipython3",
   "version": "3.9.15"
  },
  "toc": {
   "base_numbering": 1,
   "nav_menu": {},
   "number_sections": true,
   "sideBar": true,
   "skip_h1_title": false,
   "title_cell": "Table of Contents",
   "title_sidebar": "Contents",
   "toc_cell": false,
   "toc_position": {
    "height": "calc(100% - 180px)",
    "left": "10px",
    "top": "150px",
    "width": "359px"
   },
   "toc_section_display": true,
   "toc_window_display": true
  }
 },
 "nbformat": 4,
 "nbformat_minor": 2
}
